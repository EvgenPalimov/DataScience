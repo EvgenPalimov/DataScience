{
 "cells": [
  {
   "cell_type": "code",
   "execution_count": 14,
   "metadata": {
    "pycharm": {
     "name": "#%%\n"
    }
   },
   "outputs": [],
   "source": [
    "import numpy as np"
   ]
  },
  {
   "cell_type": "code",
   "execution_count": 15,
   "metadata": {
    "pycharm": {
     "name": "#%%\n"
    }
   },
   "outputs": [
    {
     "name": "stdout",
     "output_type": "stream",
     "text": [
      "Задача - 1.\n",
      "Массив a: \n",
      "[[ 1  2]\n",
      " [ 3  3]\n",
      " [ 1  6]\n",
      " [ 8 11]\n",
      " [10  7]]\n",
      "Средние значение по столбцам: [4 5]\n"
     ]
    }
   ],
   "source": [
    "a = np.array([[1, 2, 3, 3, 1], [6, 8, 11, 10, 7]]).reshape(5, 2)\n",
    "print(\"Задача - 1.\")\n",
    "print(f\"Массив a: \\n{a}\")\n",
    "mean_a = np.mean(a, axis=0, dtype=int)\n",
    "print(f\"Средние значение по столбцам: {mean_a}\")\n"
   ]
  },
  {
   "cell_type": "code",
   "execution_count": 16,
   "metadata": {
    "pycharm": {
     "name": "#%%\n"
    }
   },
   "outputs": [
    {
     "name": "stdout",
     "output_type": "stream",
     "text": [
      "Задача - 2.\n",
      "Массив a_centered: \n",
      "[[-3 -3]\n",
      " [-1 -2]\n",
      " [-3  1]\n",
      " [ 4  6]\n",
      " [ 6  2]]\n"
     ]
    }
   ],
   "source": [
    "print(\"Задача - 2.\")\n",
    "a_centered = (a - mean_a).reshape(5, 2)\n",
    "print(f\"Массив a_centered: \\n{a_centered}\")"
   ]
  },
  {
   "cell_type": "code",
   "execution_count": 17,
   "metadata": {},
   "outputs": [
    {
     "name": "stdout",
     "output_type": "stream",
     "text": [
      "Задача - 3.\n",
      "Скалярное произведение столбцов массива a_centered, раняется: 11.0\n"
     ]
    }
   ],
   "source": [
    "print(\"Задача - 3.\")\n",
    "a_centered_sp = np.dot(a_centered[:, 0], a_centered[:, 1]) / (a_centered.shape[0] - 1)\n",
    "print(f\"Скалярное произведение столбцов массива a_centered, раняется: {a_centered_sp}\")"
   ]
  },
  {
   "cell_type": "code",
   "execution_count": 18,
   "outputs": [
    {
     "name": "stdout",
     "output_type": "stream",
     "text": [
      "Задача - 4.\n",
      "Проверка решения из 3 задачи, равняется: 10.400000000000002\n"
     ]
    }
   ],
   "source": [
    "print(\"Задача - 4.\")\n",
    "a_centered_sp_1 = np.cov(a.transpose())[0, 1]\n",
    "print(f\"Проверка решения из 3 задачи, равняется: {a_centered_sp_1}\")"
   ],
   "metadata": {
    "collapsed": false,
    "pycharm": {
     "name": "#%%\n"
    }
   }
  }
 ],
 "metadata": {
  "kernelspec": {
   "display_name": "Python 3 (ipykernel)",
   "language": "python",
   "name": "python3"
  },
  "language_info": {
   "codemirror_mode": {
    "name": "ipython",
    "version": 3
   },
   "file_extension": ".py",
   "mimetype": "text/x-python",
   "name": "python",
   "nbconvert_exporter": "python",
   "pygments_lexer": "ipython3",
   "version": "3.9.1"
  }
 },
 "nbformat": 4,
 "nbformat_minor": 1
}