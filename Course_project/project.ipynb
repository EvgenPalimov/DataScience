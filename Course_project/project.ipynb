{
 "cells": [
  {
   "cell_type": "markdown",
   "metadata": {
    "collapsed": true,
    "pycharm": {
     "name": "#%% md\n"
    }
   },
   "source": [
    "# <center>Курсовой проект</center>\n",
    "## <center>Предсказание цен на недвижимость</center>"
   ]
  },
  {
   "cell_type": "markdown",
   "source": [
    "**План занятия**\n",
    "* Загрузка данных\n",
    "1. EDA\n",
    "2. Обработка выбросов\n",
    "3. Обработка пропусков\n",
    "4. Построение новых признаков\n",
    "5. Отбор признаков\n",
    "6. Разбиение на train и test\n",
    "7. Построение модели\n",
    "8. Прогнозирование на тестовом датасете"
   ],
   "metadata": {
    "collapsed": false,
    "pycharm": {
     "name": "#%% md\n"
    }
   }
  },
  {
   "cell_type": "markdown",
   "source": [
    "**Подключение библиотек и скриптов**"
   ],
   "metadata": {
    "collapsed": false,
    "pycharm": {
     "name": "#%% md\n"
    }
   }
  },
  {
   "cell_type": "code",
   "execution_count": 737,
   "outputs": [],
   "source": [
    "import numpy as np\n",
    "import pandas as pd\n",
    "import random\n",
    "\n",
    "from sklearn.model_selection import train_test_split, cross_val_score\n",
    "from sklearn.preprocessing import MinMaxScaler\n",
    "from sklearn.ensemble import  GradientBoostingRegressor\n",
    "from sklearn.metrics import r2_score as r2\n",
    "from sklearn.model_selection import KFold\n",
    "\n",
    "from datetime import datetime\n",
    "\n",
    "import missingno as msno\n",
    "import matplotlib\n",
    "import matplotlib.pyplot as plt\n",
    "import seaborn as sns\n",
    "%matplotlib inline"
   ],
   "metadata": {
    "collapsed": false,
    "pycharm": {
     "name": "#%%\n"
    }
   }
  },
  {
   "cell_type": "code",
   "execution_count": 738,
   "outputs": [],
   "source": [
    "import warnings\n",
    "warnings.filterwarnings('ignore')\n",
    "matplotlib.rcParams.update({'font.size': 14})"
   ],
   "metadata": {
    "collapsed": false,
    "pycharm": {
     "name": "#%%\n"
    }
   }
  },
  {
   "cell_type": "markdown",
   "source": [
    "##Функции"
   ],
   "metadata": {
    "collapsed": false,
    "pycharm": {
     "name": "#%% md\n"
    }
   }
  },
  {
   "cell_type": "code",
   "execution_count": 739,
   "outputs": [],
   "source": [
    "def reduce_mem_usage(df):\n",
    "    \"\"\" Функция для уменьшения использования памяти, путем изменения типов данных\n",
    "        с большого на меньший\"\"\"\n",
    "    start_mem = df.memory_usage().sum() / 1024**2\n",
    "    print('Использовано памяти Датасетом {:.2f} MB'.format(start_mem))\n",
    "\n",
    "    for col in df.columns:\n",
    "        col_type = df[col].dtype\n",
    "\n",
    "        if col_type != object:\n",
    "            c_min = df[col].min()\n",
    "            c_max = df[col].max()\n",
    "            if str(col_type)[:3] == 'int':\n",
    "                if c_min > np.iinfo(np.int8).min and c_max < np.iinfo(np.int8).max:\n",
    "                    df[col] = df[col].astype(np.int8)\n",
    "                elif c_min > np.iinfo(np.int16).min and c_max < np.iinfo(np.int16).max:\n",
    "                    df[col] = df[col].astype(np.int16)\n",
    "                elif c_min > np.iinfo(np.int32).min and c_max < np.iinfo(np.int32).max:\n",
    "                    df[col] = df[col].astype(np.int32)\n",
    "                elif c_min > np.iinfo(np.int64).min and c_max < np.iinfo(np.int64).max:\n",
    "                    df[col] = df[col].astype(np.int64)\n",
    "            else:\n",
    "                if c_min > np.finfo(np.float32).min and c_max < np.finfo(np.float32).max:\n",
    "                    df[col] = df[col].astype(np.float32)\n",
    "                else:\n",
    "                    df[col] = df[col].astype(np.float64)\n",
    "        else:\n",
    "            df[col] = df[col].astype('category')\n",
    "\n",
    "    end_mem = df.memory_usage().sum() / 1024**2\n",
    "    print('Использовано памяти после оптимизации: {:.2f} MB'.format(end_mem))\n",
    "    print('Уменьшилось на {:.1f}%'.format(100 * (start_mem - end_mem) / start_mem))\n",
    "\n",
    "    return df"
   ],
   "metadata": {
    "collapsed": false,
    "pycharm": {
     "name": "#%%\n"
    }
   }
  },
  {
   "cell_type": "code",
   "execution_count": 740,
   "outputs": [],
   "source": [
    "def evaluate_preds(train_true_values, train_pred_values, test_true_values, test_pred_values):\n",
    "    \"\"\"Функция для оценки работы модели - R2\"\"\"\n",
    "    print(\"Train R2:\\t\" + str(round(r2(train_true_values, train_pred_values), 3)))\n",
    "    print(\"Test R2:\\t\" + str(round(r2(test_true_values, test_pred_values), 3)))\n",
    "\n",
    "    plt.figure(figsize=(18,10))\n",
    "\n",
    "    plt.subplot(121)\n",
    "    sns.scatterplot(x=train_pred_values, y=train_true_values)\n",
    "    plt.xlabel('Predicted values')\n",
    "    plt.ylabel('True values')\n",
    "    plt.title('Train sample prediction')\n",
    "\n",
    "    plt.subplot(122)\n",
    "    sns.scatterplot(x=test_pred_values, y=test_true_values)\n",
    "    plt.xlabel('Predicted values')\n",
    "    plt.ylabel('True values')\n",
    "    plt.title('Test sample prediction')\n",
    "\n",
    "    plt.show()"
   ],
   "metadata": {
    "collapsed": false,
    "pycharm": {
     "name": "#%%\n"
    }
   }
  },
  {
   "cell_type": "markdown",
   "source": [
    "**Пути к директориям и файлам**"
   ],
   "metadata": {
    "collapsed": false,
    "pycharm": {
     "name": "#%% md\n"
    }
   }
  },
  {
   "cell_type": "code",
   "execution_count": 741,
   "outputs": [],
   "source": [
    "TRAIN_DATASET_PATH = '../Course_project/train.csv'\n",
    "TEST_DATASET_PATH = '../Course_project/test.csv'"
   ],
   "metadata": {
    "collapsed": false,
    "pycharm": {
     "name": "#%%\n"
    }
   }
  },
  {
   "cell_type": "markdown",
   "source": [
    "### Загрузка данных\n",
    "\n",
    "**Описание датасета**\n",
    "\n",
    "* **Id** - идентификационный номер квартиры\n",
    "* **DistrictId** - идентификационный номер района\n",
    "* **Rooms** - количество комнат\n",
    "* **Square** - площадь\n",
    "* **LifeSquare** - жилая площадь\n",
    "* **KitchenSquare** - площадь кухни\n",
    "* **Floor** - этаж\n",
    "* **HouseFloor** - количество этажей в доме\n",
    "* **HouseYear** - год постройки дома\n",
    "* **Ecology_1, Ecology_2, Ecology_3** - экологические показатели местности\n",
    "* **Social_1, Social_2, Social_3** - социальные показатели местности\n",
    "* **Healthcare_1, Helthcare_2** - показатели местности, связанные с охраной здоровья\n",
    "* **Shops_1, Shops_2** - показатели, связанные с наличием магазинов, торговых центров\n",
    "* **Price** - цена квартиры"
   ],
   "metadata": {
    "collapsed": false,
    "pycharm": {
     "name": "#%% md\n"
    }
   }
  },
  {
   "cell_type": "code",
   "execution_count": 742,
   "outputs": [
    {
     "data": {
      "text/plain": "         Id  DistrictId  Rooms     Square  LifeSquare  KitchenSquare  Floor  \\\n9995   1260          61    2.0  49.090728   33.272626            6.0      3   \n9996  16265          27    2.0  64.307684   37.038420            9.0     13   \n9997   2795         178    1.0  29.648057   16.555363            5.0      3   \n9998  14561          21    1.0  32.330292   22.326870            5.0      3   \n9999   7202          94    1.0  35.815476   22.301367            6.0      9   \n\n      HouseFloor  HouseYear  Ecology_1 Ecology_2 Ecology_3  Social_1  \\\n9995        12.0       1981   0.300323         B         B        52   \n9996         0.0       1977   0.072158         B         B         2   \n9997         5.0       1958   0.460556         B         B        20   \n9998         9.0       1969   0.194489         B         B        47   \n9999         9.0       1975   0.127376         B         B        43   \n\n      Social_2  Social_3  Healthcare_1  Helthcare_2  Shops_1 Shops_2  \\\n9995     10311         6           NaN            1        9       B   \n9996       629         1           NaN            0        0       A   \n9997      4386        14           NaN            1        5       B   \n9998      8004         3         125.0            3        5       B   \n9999      8429         3           NaN            3        9       B   \n\n              Price  \n9995  119367.455796  \n9996  199715.148807  \n9997  165953.912580  \n9998  171842.411855  \n9999  177685.627486  ",
      "text/html": "<div>\n<style scoped>\n    .dataframe tbody tr th:only-of-type {\n        vertical-align: middle;\n    }\n\n    .dataframe tbody tr th {\n        vertical-align: top;\n    }\n\n    .dataframe thead th {\n        text-align: right;\n    }\n</style>\n<table border=\"1\" class=\"dataframe\">\n  <thead>\n    <tr style=\"text-align: right;\">\n      <th></th>\n      <th>Id</th>\n      <th>DistrictId</th>\n      <th>Rooms</th>\n      <th>Square</th>\n      <th>LifeSquare</th>\n      <th>KitchenSquare</th>\n      <th>Floor</th>\n      <th>HouseFloor</th>\n      <th>HouseYear</th>\n      <th>Ecology_1</th>\n      <th>Ecology_2</th>\n      <th>Ecology_3</th>\n      <th>Social_1</th>\n      <th>Social_2</th>\n      <th>Social_3</th>\n      <th>Healthcare_1</th>\n      <th>Helthcare_2</th>\n      <th>Shops_1</th>\n      <th>Shops_2</th>\n      <th>Price</th>\n    </tr>\n  </thead>\n  <tbody>\n    <tr>\n      <th>9995</th>\n      <td>1260</td>\n      <td>61</td>\n      <td>2.0</td>\n      <td>49.090728</td>\n      <td>33.272626</td>\n      <td>6.0</td>\n      <td>3</td>\n      <td>12.0</td>\n      <td>1981</td>\n      <td>0.300323</td>\n      <td>B</td>\n      <td>B</td>\n      <td>52</td>\n      <td>10311</td>\n      <td>6</td>\n      <td>NaN</td>\n      <td>1</td>\n      <td>9</td>\n      <td>B</td>\n      <td>119367.455796</td>\n    </tr>\n    <tr>\n      <th>9996</th>\n      <td>16265</td>\n      <td>27</td>\n      <td>2.0</td>\n      <td>64.307684</td>\n      <td>37.038420</td>\n      <td>9.0</td>\n      <td>13</td>\n      <td>0.0</td>\n      <td>1977</td>\n      <td>0.072158</td>\n      <td>B</td>\n      <td>B</td>\n      <td>2</td>\n      <td>629</td>\n      <td>1</td>\n      <td>NaN</td>\n      <td>0</td>\n      <td>0</td>\n      <td>A</td>\n      <td>199715.148807</td>\n    </tr>\n    <tr>\n      <th>9997</th>\n      <td>2795</td>\n      <td>178</td>\n      <td>1.0</td>\n      <td>29.648057</td>\n      <td>16.555363</td>\n      <td>5.0</td>\n      <td>3</td>\n      <td>5.0</td>\n      <td>1958</td>\n      <td>0.460556</td>\n      <td>B</td>\n      <td>B</td>\n      <td>20</td>\n      <td>4386</td>\n      <td>14</td>\n      <td>NaN</td>\n      <td>1</td>\n      <td>5</td>\n      <td>B</td>\n      <td>165953.912580</td>\n    </tr>\n    <tr>\n      <th>9998</th>\n      <td>14561</td>\n      <td>21</td>\n      <td>1.0</td>\n      <td>32.330292</td>\n      <td>22.326870</td>\n      <td>5.0</td>\n      <td>3</td>\n      <td>9.0</td>\n      <td>1969</td>\n      <td>0.194489</td>\n      <td>B</td>\n      <td>B</td>\n      <td>47</td>\n      <td>8004</td>\n      <td>3</td>\n      <td>125.0</td>\n      <td>3</td>\n      <td>5</td>\n      <td>B</td>\n      <td>171842.411855</td>\n    </tr>\n    <tr>\n      <th>9999</th>\n      <td>7202</td>\n      <td>94</td>\n      <td>1.0</td>\n      <td>35.815476</td>\n      <td>22.301367</td>\n      <td>6.0</td>\n      <td>9</td>\n      <td>9.0</td>\n      <td>1975</td>\n      <td>0.127376</td>\n      <td>B</td>\n      <td>B</td>\n      <td>43</td>\n      <td>8429</td>\n      <td>3</td>\n      <td>NaN</td>\n      <td>3</td>\n      <td>9</td>\n      <td>B</td>\n      <td>177685.627486</td>\n    </tr>\n  </tbody>\n</table>\n</div>"
     },
     "execution_count": 742,
     "metadata": {},
     "output_type": "execute_result"
    }
   ],
   "source": [
    "train_df = pd.read_csv(TRAIN_DATASET_PATH)\n",
    "train_df.tail()"
   ],
   "metadata": {
    "collapsed": false,
    "pycharm": {
     "name": "#%%\n"
    }
   }
  },
  {
   "cell_type": "code",
   "execution_count": 743,
   "outputs": [
    {
     "data": {
      "text/plain": "         Id  DistrictId  Rooms     Square  LifeSquare  KitchenSquare  Floor  \\\n4995  10379          29    2.0  43.177521   30.339945            5.0      6   \n4996  16138          38    3.0  93.698122   94.521465           10.0     21   \n4997   3912         101    1.0  33.656723   19.003259            5.0      2   \n4998   5722          10    1.0  38.635155   20.976257            9.0      8   \n4999  11004          21    2.0  67.122742   33.944344           13.0      9   \n\n      HouseFloor  HouseYear  Ecology_1 Ecology_2 Ecology_3  Social_1  \\\n4995         5.0       1962   0.069660         B         B        31   \n4996        27.0       2018   0.060753         B         B        15   \n4997         5.0       1966   0.038693         B         B        28   \n4998        14.0       1970   0.089040         B         B        33   \n4999        17.0       2009   0.194489         B         B        47   \n\n      Social_2  Social_3  Healthcare_1  Helthcare_2  Shops_1 Shops_2  \n4995      6119         4           NaN            1        2       B  \n4996      2787         2         520.0            0        7       B  \n4997      6533         1        1015.0            2        5       B  \n4998      7976         5           NaN            0       11       B  \n4999      8004         3         125.0            3        5       B  ",
      "text/html": "<div>\n<style scoped>\n    .dataframe tbody tr th:only-of-type {\n        vertical-align: middle;\n    }\n\n    .dataframe tbody tr th {\n        vertical-align: top;\n    }\n\n    .dataframe thead th {\n        text-align: right;\n    }\n</style>\n<table border=\"1\" class=\"dataframe\">\n  <thead>\n    <tr style=\"text-align: right;\">\n      <th></th>\n      <th>Id</th>\n      <th>DistrictId</th>\n      <th>Rooms</th>\n      <th>Square</th>\n      <th>LifeSquare</th>\n      <th>KitchenSquare</th>\n      <th>Floor</th>\n      <th>HouseFloor</th>\n      <th>HouseYear</th>\n      <th>Ecology_1</th>\n      <th>Ecology_2</th>\n      <th>Ecology_3</th>\n      <th>Social_1</th>\n      <th>Social_2</th>\n      <th>Social_3</th>\n      <th>Healthcare_1</th>\n      <th>Helthcare_2</th>\n      <th>Shops_1</th>\n      <th>Shops_2</th>\n    </tr>\n  </thead>\n  <tbody>\n    <tr>\n      <th>4995</th>\n      <td>10379</td>\n      <td>29</td>\n      <td>2.0</td>\n      <td>43.177521</td>\n      <td>30.339945</td>\n      <td>5.0</td>\n      <td>6</td>\n      <td>5.0</td>\n      <td>1962</td>\n      <td>0.069660</td>\n      <td>B</td>\n      <td>B</td>\n      <td>31</td>\n      <td>6119</td>\n      <td>4</td>\n      <td>NaN</td>\n      <td>1</td>\n      <td>2</td>\n      <td>B</td>\n    </tr>\n    <tr>\n      <th>4996</th>\n      <td>16138</td>\n      <td>38</td>\n      <td>3.0</td>\n      <td>93.698122</td>\n      <td>94.521465</td>\n      <td>10.0</td>\n      <td>21</td>\n      <td>27.0</td>\n      <td>2018</td>\n      <td>0.060753</td>\n      <td>B</td>\n      <td>B</td>\n      <td>15</td>\n      <td>2787</td>\n      <td>2</td>\n      <td>520.0</td>\n      <td>0</td>\n      <td>7</td>\n      <td>B</td>\n    </tr>\n    <tr>\n      <th>4997</th>\n      <td>3912</td>\n      <td>101</td>\n      <td>1.0</td>\n      <td>33.656723</td>\n      <td>19.003259</td>\n      <td>5.0</td>\n      <td>2</td>\n      <td>5.0</td>\n      <td>1966</td>\n      <td>0.038693</td>\n      <td>B</td>\n      <td>B</td>\n      <td>28</td>\n      <td>6533</td>\n      <td>1</td>\n      <td>1015.0</td>\n      <td>2</td>\n      <td>5</td>\n      <td>B</td>\n    </tr>\n    <tr>\n      <th>4998</th>\n      <td>5722</td>\n      <td>10</td>\n      <td>1.0</td>\n      <td>38.635155</td>\n      <td>20.976257</td>\n      <td>9.0</td>\n      <td>8</td>\n      <td>14.0</td>\n      <td>1970</td>\n      <td>0.089040</td>\n      <td>B</td>\n      <td>B</td>\n      <td>33</td>\n      <td>7976</td>\n      <td>5</td>\n      <td>NaN</td>\n      <td>0</td>\n      <td>11</td>\n      <td>B</td>\n    </tr>\n    <tr>\n      <th>4999</th>\n      <td>11004</td>\n      <td>21</td>\n      <td>2.0</td>\n      <td>67.122742</td>\n      <td>33.944344</td>\n      <td>13.0</td>\n      <td>9</td>\n      <td>17.0</td>\n      <td>2009</td>\n      <td>0.194489</td>\n      <td>B</td>\n      <td>B</td>\n      <td>47</td>\n      <td>8004</td>\n      <td>3</td>\n      <td>125.0</td>\n      <td>3</td>\n      <td>5</td>\n      <td>B</td>\n    </tr>\n  </tbody>\n</table>\n</div>"
     },
     "execution_count": 743,
     "metadata": {},
     "output_type": "execute_result"
    }
   ],
   "source": [
    "test_df = pd.read_csv(TEST_DATASET_PATH)\n",
    "test_df.tail()"
   ],
   "metadata": {
    "collapsed": false,
    "pycharm": {
     "name": "#%%\n"
    }
   }
  },
  {
   "cell_type": "code",
   "execution_count": 744,
   "outputs": [
    {
     "name": "stdout",
     "output_type": "stream",
     "text": [
      "Строк в трейне: 10000\n",
      "Строк в тесте 5000\n"
     ]
    }
   ],
   "source": [
    "print('Строк в трейне:', train_df.shape[0])\n",
    "print('Строк в тесте', test_df.shape[0])"
   ],
   "metadata": {
    "collapsed": false,
    "pycharm": {
     "name": "#%%\n"
    }
   }
  },
  {
   "cell_type": "markdown",
   "source": [
    "### Приведение типов"
   ],
   "metadata": {
    "collapsed": false,
    "pycharm": {
     "name": "#%% md\n"
    }
   }
  },
  {
   "cell_type": "code",
   "execution_count": 745,
   "outputs": [
    {
     "name": "stdout",
     "output_type": "stream",
     "text": [
      "Типы данных используемые в Датасете\n"
     ]
    },
    {
     "data": {
      "text/plain": "Id                 int64\nDistrictId         int64\nRooms            float64\nSquare           float64\nLifeSquare       float64\nKitchenSquare    float64\nFloor              int64\nHouseFloor       float64\nHouseYear          int64\nEcology_1        float64\nEcology_2         object\nEcology_3         object\nSocial_1           int64\nSocial_2           int64\nSocial_3           int64\nHealthcare_1     float64\nHelthcare_2        int64\nShops_1            int64\nShops_2           object\nPrice            float64\ndtype: object"
     },
     "execution_count": 745,
     "metadata": {},
     "output_type": "execute_result"
    }
   ],
   "source": [
    "print(\"Типы данных используемые в Датасете\")\n",
    "train_df.dtypes"
   ],
   "metadata": {
    "collapsed": false,
    "pycharm": {
     "name": "#%%\n"
    }
   }
  },
  {
   "cell_type": "code",
   "execution_count": 746,
   "outputs": [],
   "source": [
    "train_df['Id'] = train_df['Id'].astype(str)\n",
    "train_df['DistrictId'] = train_df['DistrictId'].astype(str)"
   ],
   "metadata": {
    "collapsed": false,
    "pycharm": {
     "name": "#%%\n"
    }
   }
  },
  {
   "cell_type": "markdown",
   "source": [
    "### Уменьшение объема памяти, который занимает датасет"
   ],
   "metadata": {
    "collapsed": false,
    "pycharm": {
     "name": "#%% md\n"
    }
   }
  },
  {
   "cell_type": "code",
   "execution_count": 747,
   "outputs": [
    {
     "name": "stdout",
     "output_type": "stream",
     "text": [
      "Использовано памяти Датасетом 1.53 MB\n",
      "Использовано памяти после оптимизации: 0.82 MB\n",
      "Уменьшилось на 46.0%\n"
     ]
    }
   ],
   "source": [
    "train_df = reduce_mem_usage(train_df)"
   ],
   "metadata": {
    "collapsed": false,
    "pycharm": {
     "name": "#%%\n"
    }
   }
  },
  {
   "cell_type": "code",
   "execution_count": 748,
   "outputs": [
    {
     "name": "stdout",
     "output_type": "stream",
     "text": [
      "Типы данных в Датасете, после оптимизации:\n"
     ]
    },
    {
     "data": {
      "text/plain": "Id               category\nDistrictId       category\nRooms             float32\nSquare            float32\nLifeSquare        float32\nKitchenSquare     float32\nFloor                int8\nHouseFloor        float32\nHouseYear           int32\nEcology_1         float32\nEcology_2        category\nEcology_3        category\nSocial_1             int8\nSocial_2            int16\nSocial_3            int16\nHealthcare_1      float32\nHelthcare_2          int8\nShops_1              int8\nShops_2          category\nPrice             float32\ndtype: object"
     },
     "execution_count": 748,
     "metadata": {},
     "output_type": "execute_result"
    }
   ],
   "source": [
    "print(\"Типы данных в Датасете, после оптимизации:\")\n",
    "train_df.dtypes"
   ],
   "metadata": {
    "collapsed": false,
    "pycharm": {
     "name": "#%%\n"
    }
   }
  },
  {
   "cell_type": "markdown",
   "source": [
    "## 1. EDA\n",
    "Делаем EDA для:\n",
    "- Исправления выбросов\n",
    "- Заполнения NaN\n",
    "- Идей для генерации новых фич"
   ],
   "metadata": {
    "collapsed": false,
    "pycharm": {
     "name": "#%% md\n"
    }
   }
  },
  {
   "cell_type": "markdown",
   "source": [
    "**Целевая переменная**"
   ],
   "metadata": {
    "collapsed": false
   }
  },
  {
   "cell_type": "code",
   "execution_count": 749,
   "outputs": [
    {
     "data": {
      "text/plain": "<Figure size 1152x576 with 1 Axes>",
      "image/png": "[encoded data removed]"
     },
     "metadata": {
      "needs_background": "light"
     },
     "output_type": "display_data"
    }
   ],
   "source": [
    "plt.figure(figsize = (16, 8))\n",
    "\n",
    "train_df['Price'].hist(bins=30)\n",
    "plt.ylabel('Count')\n",
    "plt.xlabel('Price')\n",
    "\n",
    "plt.xlabel(\"Цена\")\n",
    "plt.ylabel(\"Значение\")\n",
    "plt.title('Целевая переменная')\n",
    "plt.show()"
   ],
   "metadata": {
    "collapsed": false,
    "pycharm": {
     "name": "#%%\n"
    }
   }
  },
  {
   "cell_type": "code",
   "execution_count": 750,
   "outputs": [
    {
     "data": {
      "text/plain": "<Figure size 1152x576 with 1 Axes>",
      "image/png": "[encoded data removed]"
     },
     "metadata": {
      "needs_background": "light"
     },
     "output_type": "display_data"
    }
   ],
   "source": [
    "target_mean = round(train_df['Price'].mean(), 2)\n",
    "target_median = train_df['Price'].median()\n",
    "target_mode = train_df['Price'].mode()[0]\n",
    "plt.figure(figsize = (16, 8))\n",
    "\n",
    "sns.distplot(train_df['Price'], bins=50)\n",
    "\n",
    "y = np.linspace(0, 0.000005, 10)\n",
    "plt.xlabel(\"Цена\")\n",
    "plt.ylabel(\"Значение\")\n",
    "plt.plot([target_mean] * 10, y, label='Средние значение', linestyle=':', linewidth=4)\n",
    "plt.plot([target_median] * 10, y, label='Медиана', linestyle='--', linewidth=4)\n",
    "plt.plot([target_mode] * 10, y, label='Мода', linestyle='-.', linewidth=4)\n",
    "\n",
    "plt.title('Распределение цены')\n",
    "plt.legend()\n",
    "plt.show()\n"
   ],
   "metadata": {
    "collapsed": false,
    "pycharm": {
     "name": "#%%\n"
    }
   }
  },
  {
   "cell_type": "code",
   "execution_count": 751,
   "outputs": [
    {
     "name": "stdout",
     "output_type": "stream",
     "text": [
      "Основные признаки\n"
     ]
    },
    {
     "data": {
      "text/plain": "              Rooms        Square   LifeSquare  KitchenSquare         Floor  \\\ncount  10000.000000  10000.000000  7887.000000   10000.000000  10000.000000   \nmean       1.890500     56.315777    37.199646       6.273300      8.526700   \nstd        0.839512     21.058731    86.241211      28.560917      5.241148   \nmin        0.000000      1.136859     0.370619       0.000000      1.000000   \n25%        1.000000     41.774879    22.769833       1.000000      4.000000   \n50%        2.000000     52.513309    32.781261       6.000000      7.000000   \n75%        2.000000     65.900627    45.128803       9.000000     12.000000   \nmax       19.000000    641.065186  7480.592285    2014.000000     42.000000   \n\n         HouseFloor     HouseYear     Ecology_1      Social_1      Social_2  \\\ncount  10000.000000  1.000000e+04  10000.000000  10000.000000  10000.000000   \nmean      12.609400  3.990166e+03      0.118858     24.687000   5352.157400   \nstd        6.775974  2.005003e+05      0.119025     17.532614   4006.799803   \nmin        0.000000  1.910000e+03      0.000000      0.000000    168.000000   \n25%        9.000000  1.974000e+03      0.017647      6.000000   1564.000000   \n50%       13.000000  1.977000e+03      0.075424     25.000000   5285.000000   \n75%       17.000000  2.001000e+03      0.195781     36.000000   7227.000000   \nmax      117.000000  2.005201e+07      0.521867     74.000000  19083.000000   \n\n           Social_3  Healthcare_1   Helthcare_2       Shops_1          Price  \ncount  10000.000000   5202.000000  10000.000000  10000.000000   10000.000000  \nmean       8.039200   1142.904419      1.319500      4.231300  214138.859375  \nstd       23.831875   1021.517273      1.493601      4.806341   92872.289062  \nmin        0.000000      0.000000      0.000000      0.000000   59174.777344  \n25%        0.000000    350.000000      0.000000      1.000000  153872.628906  \n50%        2.000000    900.000000      1.000000      3.000000  192269.648438  \n75%        5.000000   1548.000000      2.000000      6.000000  249135.460938  \nmax      141.000000   4849.000000      6.000000     23.000000  633233.437500  ",
      "text/html": "<div>\n<style scoped>\n    .dataframe tbody tr th:only-of-type {\n        vertical-align: middle;\n    }\n\n    .dataframe tbody tr th {\n        vertical-align: top;\n    }\n\n    .dataframe thead th {\n        text-align: right;\n    }\n</style>\n<table border=\"1\" class=\"dataframe\">\n  <thead>\n    <tr style=\"text-align: right;\">\n      <th></th>\n      <th>Rooms</th>\n      <th>Square</th>\n      <th>LifeSquare</th>\n      <th>KitchenSquare</th>\n      <th>Floor</th>\n      <th>HouseFloor</th>\n      <th>HouseYear</th>\n      <th>Ecology_1</th>\n      <th>Social_1</th>\n      <th>Social_2</th>\n      <th>Social_3</th>\n      <th>Healthcare_1</th>\n      <th>Helthcare_2</th>\n      <th>Shops_1</th>\n      <th>Price</th>\n    </tr>\n  </thead>\n  <tbody>\n    <tr>\n      <th>count</th>\n      <td>10000.000000</td>\n      <td>10000.000000</td>\n      <td>7887.000000</td>\n      <td>10000.000000</td>\n      <td>10000.000000</td>\n      <td>10000.000000</td>\n      <td>1.000000e+04</td>\n      <td>10000.000000</td>\n      <td>10000.000000</td>\n      <td>10000.000000</td>\n      <td>10000.000000</td>\n      <td>5202.000000</td>\n      <td>10000.000000</td>\n      <td>10000.000000</td>\n      <td>10000.000000</td>\n    </tr>\n    <tr>\n      <th>mean</th>\n      <td>1.890500</td>\n      <td>56.315777</td>\n      <td>37.199646</td>\n      <td>6.273300</td>\n      <td>8.526700</td>\n      <td>12.609400</td>\n      <td>3.990166e+03</td>\n      <td>0.118858</td>\n      <td>24.687000</td>\n      <td>5352.157400</td>\n      <td>8.039200</td>\n      <td>1142.904419</td>\n      <td>1.319500</td>\n      <td>4.231300</td>\n      <td>214138.859375</td>\n    </tr>\n    <tr>\n      <th>std</th>\n      <td>0.839512</td>\n      <td>21.058731</td>\n      <td>86.241211</td>\n      <td>28.560917</td>\n      <td>5.241148</td>\n      <td>6.775974</td>\n      <td>2.005003e+05</td>\n      <td>0.119025</td>\n      <td>17.532614</td>\n      <td>4006.799803</td>\n      <td>23.831875</td>\n      <td>1021.517273</td>\n      <td>1.493601</td>\n      <td>4.806341</td>\n      <td>92872.289062</td>\n    </tr>\n    <tr>\n      <th>min</th>\n      <td>0.000000</td>\n      <td>1.136859</td>\n      <td>0.370619</td>\n      <td>0.000000</td>\n      <td>1.000000</td>\n      <td>0.000000</td>\n      <td>1.910000e+03</td>\n      <td>0.000000</td>\n      <td>0.000000</td>\n      <td>168.000000</td>\n      <td>0.000000</td>\n      <td>0.000000</td>\n      <td>0.000000</td>\n      <td>0.000000</td>\n      <td>59174.777344</td>\n    </tr>\n    <tr>\n      <th>25%</th>\n      <td>1.000000</td>\n      <td>41.774879</td>\n      <td>22.769833</td>\n      <td>1.000000</td>\n      <td>4.000000</td>\n      <td>9.000000</td>\n      <td>1.974000e+03</td>\n      <td>0.017647</td>\n      <td>6.000000</td>\n      <td>1564.000000</td>\n      <td>0.000000</td>\n      <td>350.000000</td>\n      <td>0.000000</td>\n      <td>1.000000</td>\n      <td>153872.628906</td>\n    </tr>\n    <tr>\n      <th>50%</th>\n      <td>2.000000</td>\n      <td>52.513309</td>\n      <td>32.781261</td>\n      <td>6.000000</td>\n      <td>7.000000</td>\n      <td>13.000000</td>\n      <td>1.977000e+03</td>\n      <td>0.075424</td>\n      <td>25.000000</td>\n      <td>5285.000000</td>\n      <td>2.000000</td>\n      <td>900.000000</td>\n      <td>1.000000</td>\n      <td>3.000000</td>\n      <td>192269.648438</td>\n    </tr>\n    <tr>\n      <th>75%</th>\n      <td>2.000000</td>\n      <td>65.900627</td>\n      <td>45.128803</td>\n      <td>9.000000</td>\n      <td>12.000000</td>\n      <td>17.000000</td>\n      <td>2.001000e+03</td>\n      <td>0.195781</td>\n      <td>36.000000</td>\n      <td>7227.000000</td>\n      <td>5.000000</td>\n      <td>1548.000000</td>\n      <td>2.000000</td>\n      <td>6.000000</td>\n      <td>249135.460938</td>\n    </tr>\n    <tr>\n      <th>max</th>\n      <td>19.000000</td>\n      <td>641.065186</td>\n      <td>7480.592285</td>\n      <td>2014.000000</td>\n      <td>42.000000</td>\n      <td>117.000000</td>\n      <td>2.005201e+07</td>\n      <td>0.521867</td>\n      <td>74.000000</td>\n      <td>19083.000000</td>\n      <td>141.000000</td>\n      <td>4849.000000</td>\n      <td>6.000000</td>\n      <td>23.000000</td>\n      <td>633233.437500</td>\n    </tr>\n  </tbody>\n</table>\n</div>"
     },
     "execution_count": 751,
     "metadata": {},
     "output_type": "execute_result"
    }
   ],
   "source": [
    "print(\"Основные признаки\")\n",
    "train_df.describe()"
   ],
   "metadata": {
    "collapsed": false,
    "pycharm": {
     "name": "#%%\n"
    }
   }
  },
  {
   "cell_type": "markdown",
   "source": [
    "**Номинативные переменные**"
   ],
   "metadata": {
    "collapsed": false
   }
  },
  {
   "cell_type": "code",
   "execution_count": 752,
   "outputs": [
    {
     "data": {
      "text/plain": "27     851\n1      652\n23     565\n6      511\n9      294\n      ... \n207      1\n117      1\n209      1\n174      1\n199      1\nName: DistrictId, Length: 205, dtype: int64"
     },
     "execution_count": 752,
     "metadata": {},
     "output_type": "execute_result"
    }
   ],
   "source": [
    "train_df['DistrictId'].value_counts()"
   ],
   "metadata": {
    "collapsed": false,
    "pycharm": {
     "name": "#%%\n"
    }
   }
  },
  {
   "cell_type": "code",
   "execution_count": 753,
   "outputs": [
    {
     "data": {
      "text/plain": "B    9903\nA      97\nName: Ecology_2, dtype: int64"
     },
     "execution_count": 753,
     "metadata": {},
     "output_type": "execute_result"
    }
   ],
   "source": [
    "train_df['Ecology_2'].value_counts()"
   ],
   "metadata": {
    "collapsed": false,
    "pycharm": {
     "name": "#%%\n"
    }
   }
  },
  {
   "cell_type": "code",
   "execution_count": 754,
   "outputs": [
    {
     "data": {
      "text/plain": "B    9725\nA     275\nName: Ecology_3, dtype: int64"
     },
     "execution_count": 754,
     "metadata": {},
     "output_type": "execute_result"
    }
   ],
   "source": [
    "train_df['Ecology_3'].value_counts()"
   ],
   "metadata": {
    "collapsed": false,
    "pycharm": {
     "name": "#%%\n"
    }
   }
  },
  {
   "cell_type": "code",
   "execution_count": 755,
   "outputs": [
    {
     "data": {
      "text/plain": "B    9175\nA     825\nName: Shops_2, dtype: int64"
     },
     "execution_count": 755,
     "metadata": {},
     "output_type": "execute_result"
    }
   ],
   "source": [
    "train_df['Shops_2'].value_counts()"
   ],
   "metadata": {
    "collapsed": false,
    "pycharm": {
     "name": "#%%\n"
    }
   }
  },
  {
   "cell_type": "markdown",
   "source": [
    "### 2. Обработка выбросов\n"
   ],
   "metadata": {
    "collapsed": false,
    "pycharm": {
     "name": "#%% md\n"
    }
   }
  },
  {
   "cell_type": "markdown",
   "source": [
    "**Признак Rooms**"
   ],
   "metadata": {
    "collapsed": false
   }
  },
  {
   "cell_type": "markdown",
   "source": [
    "Количество комнат:"
   ],
   "metadata": {
    "collapsed": false,
    "pycharm": {
     "name": "#%% md\n"
    }
   }
  },
  {
   "cell_type": "code",
   "execution_count": 756,
   "outputs": [
    {
     "data": {
      "text/plain": "2.0     3880\n1.0     3705\n3.0     2235\n4.0      150\n5.0       18\n0.0        8\n10.0       2\n19.0       1\n6.0        1\nName: Rooms, dtype: int64"
     },
     "execution_count": 756,
     "metadata": {},
     "output_type": "execute_result"
    }
   ],
   "source": [
    "train_df['Rooms'].value_counts()"
   ],
   "metadata": {
    "collapsed": false,
    "pycharm": {
     "name": "#%%\n"
    }
   }
  },
  {
   "cell_type": "markdown",
   "source": [
    "Исходя из данных видно, что количество комнат более 6, является выбросом, поэтому заменим эти данные медианной и\n",
    "добавим признак, где укажем что была произвдена замена данных."
   ],
   "metadata": {
    "collapsed": false,
    "pycharm": {
     "name": "#%% md\n"
    }
   }
  },
  {
   "cell_type": "code",
   "execution_count": 757,
   "outputs": [
    {
     "data": {
      "text/plain": "      Id DistrictId  Rooms      Square  LifeSquare  KitchenSquare  Floor  \\\n0  11809         27    3.0  115.027313         NaN           10.0      4   \n1   3013         22    1.0   39.832523   23.169222            8.0      7   \n2   8215          1    3.0   78.342216   47.671970           10.0      2   \n3   2352          1    1.0   40.409908         NaN            1.0     10   \n4  13866         94    2.0   64.285065   38.562515            9.0     16   \n\n   HouseFloor  HouseYear  Ecology_1  ... Ecology_3 Social_1  Social_2  \\\n0        10.0       2014   0.075424  ...         B       11      3097   \n1         8.0       1966   0.118537  ...         B       30      6207   \n2        17.0       1988   0.025609  ...         B       33      5261   \n3        22.0       1977   0.007122  ...         B        1       264   \n4        16.0       1972   0.282798  ...         B       33      8667   \n\n   Social_3  Healthcare_1  Helthcare_2  Shops_1  Shops_2          Price  \\\n0         0           NaN            0        0        B  305018.875000   \n1         1        1183.0            1        0        B  177734.546875   \n2         0         240.0            3        1        B  282078.718750   \n3         0           NaN            0        1        B  168106.000000   \n4         2           NaN            0        6        B  343995.093750   \n\n   Rooms_outlier  \n0              0  \n1              0  \n2              0  \n3              0  \n4              0  \n\n[5 rows x 21 columns]",
      "text/html": "<div>\n<style scoped>\n    .dataframe tbody tr th:only-of-type {\n        vertical-align: middle;\n    }\n\n    .dataframe tbody tr th {\n        vertical-align: top;\n    }\n\n    .dataframe thead th {\n        text-align: right;\n    }\n</style>\n<table border=\"1\" class=\"dataframe\">\n  <thead>\n    <tr style=\"text-align: right;\">\n      <th></th>\n      <th>Id</th>\n      <th>DistrictId</th>\n      <th>Rooms</th>\n      <th>Square</th>\n      <th>LifeSquare</th>\n      <th>KitchenSquare</th>\n      <th>Floor</th>\n      <th>HouseFloor</th>\n      <th>HouseYear</th>\n      <th>Ecology_1</th>\n      <th>...</th>\n      <th>Ecology_3</th>\n      <th>Social_1</th>\n      <th>Social_2</th>\n      <th>Social_3</th>\n      <th>Healthcare_1</th>\n      <th>Helthcare_2</th>\n      <th>Shops_1</th>\n      <th>Shops_2</th>\n      <th>Price</th>\n      <th>Rooms_outlier</th>\n    </tr>\n  </thead>\n  <tbody>\n    <tr>\n      <th>0</th>\n      <td>11809</td>\n      <td>27</td>\n      <td>3.0</td>\n      <td>115.027313</td>\n      <td>NaN</td>\n      <td>10.0</td>\n      <td>4</td>\n      <td>10.0</td>\n      <td>2014</td>\n      <td>0.075424</td>\n      <td>...</td>\n      <td>B</td>\n      <td>11</td>\n      <td>3097</td>\n      <td>0</td>\n      <td>NaN</td>\n      <td>0</td>\n      <td>0</td>\n      <td>B</td>\n      <td>305018.875000</td>\n      <td>0</td>\n    </tr>\n    <tr>\n      <th>1</th>\n      <td>3013</td>\n      <td>22</td>\n      <td>1.0</td>\n      <td>39.832523</td>\n      <td>23.169222</td>\n      <td>8.0</td>\n      <td>7</td>\n      <td>8.0</td>\n      <td>1966</td>\n      <td>0.118537</td>\n      <td>...</td>\n      <td>B</td>\n      <td>30</td>\n      <td>6207</td>\n      <td>1</td>\n      <td>1183.0</td>\n      <td>1</td>\n      <td>0</td>\n      <td>B</td>\n      <td>177734.546875</td>\n      <td>0</td>\n    </tr>\n    <tr>\n      <th>2</th>\n      <td>8215</td>\n      <td>1</td>\n      <td>3.0</td>\n      <td>78.342216</td>\n      <td>47.671970</td>\n      <td>10.0</td>\n      <td>2</td>\n      <td>17.0</td>\n      <td>1988</td>\n      <td>0.025609</td>\n      <td>...</td>\n      <td>B</td>\n      <td>33</td>\n      <td>5261</td>\n      <td>0</td>\n      <td>240.0</td>\n      <td>3</td>\n      <td>1</td>\n      <td>B</td>\n      <td>282078.718750</td>\n      <td>0</td>\n    </tr>\n    <tr>\n      <th>3</th>\n      <td>2352</td>\n      <td>1</td>\n      <td>1.0</td>\n      <td>40.409908</td>\n      <td>NaN</td>\n      <td>1.0</td>\n      <td>10</td>\n      <td>22.0</td>\n      <td>1977</td>\n      <td>0.007122</td>\n      <td>...</td>\n      <td>B</td>\n      <td>1</td>\n      <td>264</td>\n      <td>0</td>\n      <td>NaN</td>\n      <td>0</td>\n      <td>1</td>\n      <td>B</td>\n      <td>168106.000000</td>\n      <td>0</td>\n    </tr>\n    <tr>\n      <th>4</th>\n      <td>13866</td>\n      <td>94</td>\n      <td>2.0</td>\n      <td>64.285065</td>\n      <td>38.562515</td>\n      <td>9.0</td>\n      <td>16</td>\n      <td>16.0</td>\n      <td>1972</td>\n      <td>0.282798</td>\n      <td>...</td>\n      <td>B</td>\n      <td>33</td>\n      <td>8667</td>\n      <td>2</td>\n      <td>NaN</td>\n      <td>0</td>\n      <td>6</td>\n      <td>B</td>\n      <td>343995.093750</td>\n      <td>0</td>\n    </tr>\n  </tbody>\n</table>\n<p>5 rows × 21 columns</p>\n</div>"
     },
     "execution_count": 757,
     "metadata": {},
     "output_type": "execute_result"
    }
   ],
   "source": [
    "train_df['Rooms_outlier'] = 0\n",
    "\n",
    "train_df.loc[(train_df['Rooms'] == 0) | (train_df['Rooms'] >= 6), 'Rooms_outlier'] = 1\n",
    "train_df.head()"
   ],
   "metadata": {
    "collapsed": false,
    "pycharm": {
     "name": "#%%\n"
    }
   }
  },
  {
   "cell_type": "code",
   "execution_count": 758,
   "outputs": [],
   "source": [
    "train_df.loc[train_df['Rooms'] == 0, 'Rooms'] = 1\n",
    "train_df.loc[train_df['Rooms'] >= 6, 'Rooms'] = train_df['Rooms'].median()"
   ],
   "metadata": {
    "collapsed": false,
    "pycharm": {
     "name": "#%%\n"
    }
   }
  },
  {
   "cell_type": "markdown",
   "source": [
    "Количество комнат, после обработки выбросов:"
   ],
   "metadata": {
    "collapsed": false,
    "pycharm": {
     "name": "#%% md\n"
    }
   }
  },
  {
   "cell_type": "code",
   "execution_count": 759,
   "outputs": [
    {
     "data": {
      "text/plain": "2.0    3884\n1.0    3713\n3.0    2235\n4.0     150\n5.0      18\nName: Rooms, dtype: int64"
     },
     "execution_count": 759,
     "metadata": {},
     "output_type": "execute_result"
    }
   ],
   "source": [
    "train_df['Rooms'].value_counts()"
   ],
   "metadata": {
    "collapsed": false,
    "pycharm": {
     "name": "#%%\n"
    }
   }
  },
  {
   "cell_type": "markdown",
   "source": [
    "**Признак Suqare**"
   ],
   "metadata": {
    "collapsed": false
   }
  },
  {
   "cell_type": "code",
   "execution_count": 760,
   "outputs": [
    {
     "data": {
      "text/plain": "(1.1368588, 641.0652)"
     },
     "execution_count": 760,
     "metadata": {},
     "output_type": "execute_result"
    }
   ],
   "source": [
    "train_df['Square'].min(),train_df['Square'].max()"
   ],
   "metadata": {
    "collapsed": false,
    "pycharm": {
     "name": "#%%\n"
    }
   }
  },
  {
   "cell_type": "markdown",
   "source": [
    "Square - общая блощадь квартиры, судя по данным доступным в интернете минимальная площадь квартирын но нормам\n",
    "САНПИН равна 14 кв. м. Заменим все значения меньше этой величины на указанную. С верхней границей ничего делать\n",
    "не будем, в целом сверх дорогой дом может иметь площадь 600 кв. м"
   ],
   "metadata": {
    "collapsed": false,
    "pycharm": {
     "name": "#%% md\n"
    }
   }
  },
  {
   "cell_type": "code",
   "execution_count": 761,
   "outputs": [
    {
     "name": "stdout",
     "output_type": "stream",
     "text": [
      "Минимальная площадь: 14.0 кв.м,\n",
      "максимальная площадь 641.065185546875 кв.м\n"
     ]
    }
   ],
   "source": [
    "train_df.loc[(train_df['Square'] < 14),'Square'] = 14\n",
    "print(f\"Минимальная площадь: {train_df['Square'].min()} кв.м,\"\n",
    "      f\"\\nмаксимальная площадь {train_df['Square'].max()} кв.м\")"
   ],
   "metadata": {
    "collapsed": false,
    "pycharm": {
     "name": "#%%\n"
    }
   }
  },
  {
   "cell_type": "markdown",
   "source": [
    "**Признак KitchenSquare**\n",
    "\n",
    "Площадь кухней"
   ],
   "metadata": {
    "collapsed": false
   }
  },
  {
   "cell_type": "code",
   "execution_count": 762,
   "outputs": [
    {
     "data": {
      "text/plain": "1.0       2460\n8.0       1306\n5.0       1169\n10.0      1075\n6.0       1038\n9.0        843\n0.0        697\n7.0        609\n12.0       249\n11.0       233\n13.0        67\n14.0        51\n4.0         39\n15.0        31\n3.0         22\n16.0        16\n20.0        14\n17.0        12\n19.0        11\n18.0         6\n2.0          4\n22.0         3\n30.0         2\n43.0         2\n41.0         2\n112.0        2\n25.0         2\n51.0         2\n37.0         2\n58.0         2\n32.0         2\n21.0         1\n73.0         1\n75.0         1\n36.0         1\n27.0         1\n63.0         1\n1970.0       1\n54.0         1\n53.0         1\n60.0         1\n26.0         1\n66.0         1\n39.0         1\n29.0         1\n78.0         1\n31.0         1\n84.0         1\n48.0         1\n96.0         1\n42.0         1\n40.0         1\n23.0         1\n72.0         1\n35.0         1\n62.0         1\n123.0        1\n2014.0       1\nName: KitchenSquare, dtype: int64"
     },
     "execution_count": 762,
     "metadata": {},
     "output_type": "execute_result"
    }
   ],
   "source": [
    "train_df['KitchenSquare'].value_counts()"
   ],
   "metadata": {
    "collapsed": false,
    "pycharm": {
     "name": "#%%\n"
    }
   }
  },
  {
   "cell_type": "markdown",
   "source": [
    "Как видно, что у площади кухни, очень большой разброс, приведем значения к адекватным данным,\n",
    "путем замены выбросом - квантилем."
   ],
   "metadata": {
    "collapsed": false,
    "pycharm": {
     "name": "#%% md\n"
    }
   }
  },
  {
   "cell_type": "code",
   "execution_count": 763,
   "outputs": [],
   "source": [
    "train_df['KitchenSquare'].quantile(.975), train_df['KitchenSquare'].quantile(.025)\n",
    "\n",
    "condition = (train_df['KitchenSquare'].isna()) \\\n",
    "             | (train_df['KitchenSquare'] > train_df['KitchenSquare'].quantile(.975))\n",
    "\n",
    "train_df.loc[condition, 'KitchenSquare'] = train_df['KitchenSquare'].median()\n",
    "\n",
    "train_df.loc[train_df['KitchenSquare'] < 3, 'KitchenSquare'] = 3"
   ],
   "metadata": {
    "collapsed": false,
    "pycharm": {
     "name": "#%%\n"
    }
   }
  },
  {
   "cell_type": "markdown",
   "source": [
    "Площадь кухней после обработки"
   ],
   "metadata": {
    "collapsed": false,
    "pycharm": {
     "name": "#%% md\n"
    }
   }
  },
  {
   "cell_type": "code",
   "execution_count": 764,
   "outputs": [
    {
     "data": {
      "text/plain": "3.0     3183\n8.0     1306\n6.0     1227\n5.0     1169\n10.0    1075\n9.0      843\n7.0      609\n12.0     249\n11.0     233\n13.0      67\n4.0       39\nName: KitchenSquare, dtype: int64"
     },
     "execution_count": 764,
     "metadata": {},
     "output_type": "execute_result"
    }
   ],
   "source": [
    "train_df['KitchenSquare'].value_counts()"
   ],
   "metadata": {
    "collapsed": false,
    "pycharm": {
     "name": "#%%\n"
    }
   }
  },
  {
   "cell_type": "markdown",
   "source": [
    "**Признаки - HouseFloor, Floor**\n",
    "\n",
    "Признак - этажности дома"
   ],
   "metadata": {
    "collapsed": false
   }
  },
  {
   "cell_type": "code",
   "execution_count": 765,
   "outputs": [
    {
     "data": {
      "text/plain": "array([  0.,   1.,   2.,   3.,   4.,   5.,   6.,   7.,   8.,   9.,  10.,\n        11.,  12.,  13.,  14.,  15.,  16.,  17.,  18.,  19.,  20.,  21.,\n        22.,  23.,  24.,  25.,  26.,  27.,  28.,  29.,  30.,  31.,  32.,\n        36.,  37.,  38.,  39.,  40.,  44.,  45.,  47.,  48.,  99., 117.],\n      dtype=float32)"
     },
     "execution_count": 765,
     "metadata": {},
     "output_type": "execute_result"
    }
   ],
   "source": [
    "train_df['HouseFloor'].sort_values().unique()"
   ],
   "metadata": {
    "collapsed": false,
    "pycharm": {
     "name": "#%%\n"
    }
   }
  },
  {
   "cell_type": "markdown",
   "source": [
    "Данные из Датасета, сделаны по городу Москве, там сам высокое здание Башня Восток, с высотой 95 этажей.\n",
    "Поэтому все, что больше 95 этажей является выбросом и где этажность равняется 0 и заменим медианой.\n",
    "\n",
    "Признак - на каком этаже находится квартира"
   ],
   "metadata": {
    "collapsed": false,
    "pycharm": {
     "name": "#%% md\n"
    }
   }
  },
  {
   "cell_type": "code",
   "execution_count": 766,
   "outputs": [
    {
     "data": {
      "text/plain": "array([ 1,  2,  3,  4,  5,  6,  7,  8,  9, 10, 11, 12, 13, 14, 15, 16, 17,\n       18, 19, 20, 21, 22, 23, 24, 25, 26, 27, 28, 31, 32, 33, 37, 42],\n      dtype=int8)"
     },
     "execution_count": 766,
     "metadata": {},
     "output_type": "execute_result"
    }
   ],
   "source": [
    "train_df['Floor'].sort_values().unique()"
   ],
   "metadata": {
    "collapsed": false,
    "pycharm": {
     "name": "#%%\n"
    }
   }
  },
  {
   "cell_type": "markdown",
   "source": [
    "Выбросов не обнаружено. Но не везде этаж квартиры соответсвует, этажности дома. Произвдем замену.\n",
    "\n",
    "Сумма значений, где этаж квартиры, больше этажности дома:"
   ],
   "metadata": {
    "collapsed": false,
    "pycharm": {
     "name": "#%% md\n"
    }
   }
  },
  {
   "cell_type": "code",
   "execution_count": 767,
   "outputs": [
    {
     "name": "stdout",
     "output_type": "stream",
     "text": [
      "1825\n"
     ]
    }
   ],
   "source": [
    "print((train_df['Floor'] > train_df['HouseFloor']).sum())"
   ],
   "metadata": {
    "collapsed": false,
    "pycharm": {
     "name": "#%%\n"
    }
   }
  },
  {
   "cell_type": "markdown",
   "source": [
    "В датасете - 1825 значений, где этаж больше, чем этажности дома, скорее всего перепутаны значения этажа и этажности,\n",
    "сначала сделаем признак проблемности с этажом или этажностью, а потом произвдем замену этажи и этажности дома."
   ],
   "metadata": {
    "collapsed": false,
    "pycharm": {
     "name": "#%% md\n"
    }
   }
  },
  {
   "cell_type": "code",
   "execution_count": 768,
   "outputs": [],
   "source": [
    "train_df['HouseFloor_outlier'] = 0\n",
    "train_df.loc[train_df['HouseFloor'] == 0, 'HouseFloor_outlier'] = 1\n",
    "train_df.loc[train_df['Floor'] > train_df['HouseFloor'], 'HouseFloor_outlier'] = 1\n",
    "m = train_df['Floor'] > train_df['HouseFloor']\n",
    "mp = {'Floor': 'HouseFloor', 'HouseFloor': 'Floor'}\n",
    "train_df.update(train_df.loc[m].rename(mp, axis=1))\n",
    "\n"
   ],
   "metadata": {
    "collapsed": false,
    "pycharm": {
     "name": "#%%\n"
    }
   }
  },
  {
   "cell_type": "markdown",
   "source": [
    "Сумма значений, где этаж квартиры, больше этажности дома, после обработки:"
   ],
   "metadata": {
    "collapsed": false,
    "pycharm": {
     "name": "#%% md\n"
    }
   }
  },
  {
   "cell_type": "code",
   "execution_count": 769,
   "outputs": [
    {
     "data": {
      "text/plain": "0"
     },
     "execution_count": 769,
     "metadata": {},
     "output_type": "execute_result"
    }
   ],
   "source": [
    "(train_df['Floor'] > train_df['HouseFloor']).sum()"
   ],
   "metadata": {
    "collapsed": false,
    "pycharm": {
     "name": "#%%\n"
    }
   }
  },
  {
   "cell_type": "markdown",
   "source": [
    "После перестановки значений, все выбросы ушли, что указывает, на ошибку заполнения данных."
   ],
   "metadata": {
    "collapsed": false,
    "pycharm": {
     "name": "#%% md\n"
    }
   }
  },
  {
   "cell_type": "markdown",
   "source": [
    "**Признак LifeSquare**\n",
    "\n",
    "Выбросы, где жилая площадь больше общей площади:"
   ],
   "metadata": {
    "collapsed": false
   }
  },
  {
   "cell_type": "code",
   "execution_count": 770,
   "outputs": [
    {
     "data": {
      "text/plain": "1234"
     },
     "execution_count": 770,
     "metadata": {},
     "output_type": "execute_result"
    }
   ],
   "source": [
    "train_df.loc[train_df['LifeSquare'] > train_df['Square'] - train_df['KitchenSquare'] - 3]['LifeSquare'].count()"
   ],
   "metadata": {
    "collapsed": false,
    "pycharm": {
     "name": "#%%\n"
    }
   }
  },
  {
   "cell_type": "markdown",
   "source": [
    "LifeSquare - жилая площадь не должна быть больше чем общая площадь за вычетом площади кухни и 3х кв. м (на санузел\n",
    "и прочие нежилые части помещения), если такая ситуация возникает заменяем значение жилой площади на значение разности\n",
    "общей площади и кухни и 3 кв. м. Если жилая площадь в 2 и более раза меньше чем разность общей площади, площади кухни\n",
    "и 3 кв. м - заменяем значение на значение разности общей площади и кухни и 3 кв. м.\n",
    "Пропуски жилой площади обработаем отдельно"
   ],
   "metadata": {
    "collapsed": false,
    "pycharm": {
     "name": "#%% md\n"
    }
   }
  },
  {
   "cell_type": "code",
   "execution_count": 771,
   "outputs": [],
   "source": [
    "train_df.loc[(train_df['LifeSquare'] > train_df['Square'] - train_df['KitchenSquare'] - 3),\n",
    "             'LifeSquare'] = train_df['Square'] - train_df['KitchenSquare'] - 3\n",
    "\n",
    "train_df.loc[(train_df['LifeSquare'] < (train_df['Square'] - train_df['KitchenSquare'] - 3)/2),\n",
    "             ['LifeSquare']] = train_df['Square'] - train_df['KitchenSquare'] - 3"
   ],
   "metadata": {
    "collapsed": false,
    "pycharm": {
     "name": "#%%\n"
    }
   }
  },
  {
   "cell_type": "markdown",
   "source": [
    "Выбросы, после обработки, признака - общей площади:"
   ],
   "metadata": {
    "collapsed": false
   }
  },
  {
   "cell_type": "code",
   "execution_count": 772,
   "outputs": [
    {
     "data": {
      "text/plain": "0"
     },
     "execution_count": 772,
     "metadata": {},
     "output_type": "execute_result"
    }
   ],
   "source": [
    "train_df.loc[train_df['LifeSquare'] < (train_df['Square'] - train_df['KitchenSquare'] - 3)/2]['LifeSquare'].count()"
   ],
   "metadata": {
    "collapsed": false,
    "pycharm": {
     "name": "#%%\n"
    }
   }
  },
  {
   "cell_type": "markdown",
   "source": [
    "**Признак HouseYear**\n",
    "\n",
    "Список постройки дома, от большего к меньшему"
   ],
   "metadata": {
    "collapsed": false,
    "pycharm": {
     "name": "#%% md\n"
    }
   }
  },
  {
   "cell_type": "code",
   "execution_count": 773,
   "outputs": [
    {
     "data": {
      "text/plain": "9163    20052011.0\n8828        4968.0\n7721        2020.0\n9122        2020.0\n7955        2020.0\n           ...    \n7610        1916.0\n6250        1914.0\n2066        1912.0\n2795        1912.0\n6794        1910.0\nName: HouseYear, Length: 10000, dtype: float64"
     },
     "execution_count": 773,
     "metadata": {},
     "output_type": "execute_result"
    }
   ],
   "source": [
    "train_df['HouseYear'].sort_values(ascending=False)"
   ],
   "metadata": {
    "collapsed": false,
    "pycharm": {
     "name": "#%%\n"
    }
   }
  },
  {
   "cell_type": "markdown",
   "source": [
    "Как видно из списка, что первый дом построен в 1910 г., что нормально. А максимальный год уход за грань разумного,\n",
    "обработаю данные выбросы."
   ],
   "metadata": {
    "collapsed": false,
    "pycharm": {
     "name": "#%% md\n"
    }
   }
  },
  {
   "cell_type": "code",
   "execution_count": 774,
   "outputs": [],
   "source": [
    "train_df.loc[train_df['HouseYear'] > 2020, 'HouseYear'] = 2020"
   ],
   "metadata": {
    "collapsed": false,
    "pycharm": {
     "name": "#%%\n"
    }
   }
  },
  {
   "cell_type": "markdown",
   "source": [
    "### 3. Обработка пропусков\n",
    "\n",
    "Общее количество пропусков:"
   ],
   "metadata": {
    "collapsed": false
   }
  },
  {
   "cell_type": "code",
   "execution_count": 775,
   "outputs": [
    {
     "data": {
      "text/plain": "Id                       0\nDistrictId               0\nRooms                    0\nSquare                   0\nLifeSquare            2113\nKitchenSquare            0\nFloor                    0\nHouseFloor               0\nHouseYear                0\nEcology_1                0\nEcology_2                0\nEcology_3                0\nSocial_1                 0\nSocial_2                 0\nSocial_3                 0\nHealthcare_1          4798\nHelthcare_2              0\nShops_1                  0\nShops_2                  0\nPrice                    0\nRooms_outlier            0\nHouseFloor_outlier       0\ndtype: int64"
     },
     "execution_count": 775,
     "metadata": {},
     "output_type": "execute_result"
    }
   ],
   "source": [
    "train_df.isna().sum()\n"
   ],
   "metadata": {
    "collapsed": false,
    "pycharm": {
     "name": "#%%\n"
    }
   }
  },
  {
   "cell_type": "code",
   "execution_count": 776,
   "outputs": [
    {
     "data": {
      "text/plain": "<Figure size 1800x720 with 2 Axes>",
      "image/png": "[encoded data removed]"
     },
     "metadata": {
      "needs_background": "light"
     },
     "output_type": "display_data"
    }
   ],
   "source": [
    "msno.matrix(train_df);\n"
   ],
   "metadata": {
    "collapsed": false,
    "pycharm": {
     "name": "#%%\n"
    }
   }
  },
  {
   "cell_type": "markdown",
   "source": [
    "По сути имеем 2 признака с пропусками:\n",
    "\n",
    "1. LifeSquare - Жилая площадь пропусков достаточно много, но можно постаратсья восстановить признак,\n",
    "при этом он может существенно влиять на стоимость.\n",
    "2. Healthcare_1 - показатель связанный с охраной здоровья, пропусков очень много почти 50% -\n",
    "его просто выбросим.\n",
    "\n",
    "LifeSquare - пропуски жилой площади будем заполнять следущими расчетными данными. Возьмем общую площадь и вычтем из неё\n",
    "площадь кухни и минимальную площадь служебных помещений, а так же предусмотрим возможность проверки, общей площади и\n",
    "площади кухни на пустые значения."
   ],
   "metadata": {
    "collapsed": false,
    "pycharm": {
     "name": "#%% md\n"
    }
   }
  },
  {
   "cell_type": "code",
   "execution_count": 777,
   "outputs": [
    {
     "data": {
      "text/plain": "Id                    0\nDistrictId            0\nRooms                 0\nSquare                0\nLifeSquare            0\nKitchenSquare         0\nFloor                 0\nHouseFloor            0\nHouseYear             0\nEcology_1             0\nEcology_2             0\nEcology_3             0\nSocial_1              0\nSocial_2              0\nSocial_3              0\nHelthcare_2           0\nShops_1               0\nShops_2               0\nPrice                 0\nRooms_outlier         0\nHouseFloor_outlier    0\nLifeSquare_nan        0\ndtype: int64"
     },
     "execution_count": 777,
     "metadata": {},
     "output_type": "execute_result"
    }
   ],
   "source": [
    "train_df['LifeSquare_nan'] = train_df['LifeSquare'].isna() * 1\n",
    "\n",
    "condition = (train_df['LifeSquare'].isna()) \\\n",
    "             & (~train_df['Square'].isna()) \\\n",
    "             & (~train_df['KitchenSquare'].isna())\n",
    "\n",
    "train_df.loc[condition, 'LifeSquare'] = train_df.loc[condition, 'Square'] \\\n",
    "                                            - train_df.loc[condition, 'KitchenSquare'] - 3\n",
    "\n",
    "train_df.isna().sum()\n",
    "train_df.drop('Healthcare_1', axis=1, inplace=True)\n",
    "\n",
    "train_df.isna().sum()"
   ],
   "metadata": {
    "collapsed": false,
    "pycharm": {
     "name": "#%%\n"
    }
   }
  },
  {
   "cell_type": "code",
   "execution_count": 778,
   "outputs": [],
   "source": [
    "\n",
    "class DataPreprocessing:\n",
    "    \"\"\"Подготовка исходных данных\"\"\"\n",
    "\n",
    "    def __init__(self):\n",
    "        \"\"\"Параметры класса\"\"\"\n",
    "        self.medians = None\n",
    "        self.kitchen_square_quantile = None\n",
    "\n",
    "    def fit(self, X):\n",
    "        \"\"\"Сохранение статистик\"\"\"\n",
    "        # Расчет медиан\n",
    "        self.medians = X.median()\n",
    "        self.kitchen_square_quantile = X['KitchenSquare'].quantile(.975)\n",
    "\n",
    "    def transform(self, X):\n",
    "        \"\"\"Трансформация данных\"\"\"\n",
    "\n",
    "        # Rooms\n",
    "        X['Rooms_outlier'] = 0\n",
    "        X.loc[(X['Rooms'] == 0) | (X['Rooms'] >= 6), 'Rooms_outlier'] = 1\n",
    "\n",
    "        X.loc[X['Rooms'] == 0, 'Rooms'] = 1\n",
    "        X.loc[X['Rooms'] >= 6, 'Rooms'] = self.medians['Rooms']\n",
    "\n",
    "        # Square\n",
    "        X.loc[X['Square'] < 14,'Square'] = 14\n",
    "\n",
    "        # KitchenSquare\n",
    "        condition = (X['KitchenSquare'].isna()) \\\n",
    "                    | (X['KitchenSquare'] > self.kitchen_square_quantile)\n",
    "\n",
    "        X.loc[condition, 'KitchenSquare'] = self.medians['KitchenSquare']\n",
    "\n",
    "        X.loc[X['KitchenSquare'] < 3, 'KitchenSquare'] = 3\n",
    "\n",
    "        # HouseFloor, Floor\n",
    "        X['HouseFloor_outlier'] = 0\n",
    "        X.loc[X['HouseFloor'] == 0, 'HouseFloor_outlier'] = 1\n",
    "        X.loc[X['Floor'] > X['HouseFloor'], 'HouseFloor_outlier'] = 1\n",
    "\n",
    "        X.loc[X['HouseFloor'] == 0, 'HouseFloor'] = self.medians['HouseFloor']\n",
    "\n",
    "        floor_outliers = X.loc[X['Floor'] > X['HouseFloor']].index\n",
    "        X.loc[floor_outliers, 'Floor'] = X.loc[floor_outliers, 'HouseFloor']\\\n",
    "                                            .apply(lambda x: random.randint(1, x))\n",
    "\n",
    "        # LifeSquare\n",
    "\n",
    "        X.loc[(X['LifeSquare'] > X['Square'] - X['KitchenSquare'] - 3),\n",
    "              'LifeSquare'] = X['Square'] - X['KitchenSquare'] - 3\n",
    "\n",
    "        X.loc[(X['LifeSquare'] < (X['Square'] - X['KitchenSquare'] - 3)/2),\n",
    "             ['LifeSquare']] = X['Square'] - X['KitchenSquare'] - 3\n",
    "\n",
    "        # HouseYear\n",
    "        current_year = datetime.now().year\n",
    "\n",
    "        X['HouseYear_outlier'] = 0\n",
    "        X.loc[X['HouseYear'] > current_year, 'HouseYear_outlier'] = 1\n",
    "\n",
    "        X.loc[X['HouseYear'] > current_year, 'HouseYear'] = current_year\n",
    "\n",
    "        # Healthcare_1\n",
    "        if 'Healthcare_1' in X.columns:\n",
    "            X.drop('Healthcare_1', axis=1, inplace=True)\n",
    "\n",
    "        # LifeSquare\n",
    "        X['LifeSquare_nan'] = X['LifeSquare'].isna() * 1\n",
    "        condition = (X['LifeSquare'].isna()) & \\\n",
    "                      (~X['Square'].isna()) & \\\n",
    "                      (~X['KitchenSquare'].isna())\n",
    "\n",
    "        X.loc[condition, 'LifeSquare'] = X.loc[condition, 'Square'] - X.loc[condition, 'KitchenSquare'] - 3\n",
    "\n",
    "\n",
    "        X.fillna(self.medians, inplace=True)\n",
    "\n",
    "        return X"
   ],
   "metadata": {
    "collapsed": false,
    "pycharm": {
     "name": "#%%\n"
    }
   }
  },
  {
   "cell_type": "markdown",
   "source": [
    "### 4. Построение новых признаков\n",
    "\n",
    "**Dummies кодирование**\n",
    "\n",
    "Всего имеем 3 категориальных признака которые по сути можно закодировать бинарно:\n",
    "\n",
    "    1. Ecology_2\n",
    "    2. Ecology_3\n",
    "    3. Shops_2"
   ],
   "metadata": {
    "collapsed": false,
    "pycharm": {
     "name": "#%% md\n"
    }
   }
  },
  {
   "cell_type": "code",
   "execution_count": 779,
   "outputs": [],
   "source": [
    "binary_to_numbers = {'A': 0, 'B': 1}\n",
    "train_df['Ecology_2'] = train_df['Ecology_2'].replace(binary_to_numbers)\n",
    "train_df['Ecology_3'] = train_df['Ecology_3'].replace(binary_to_numbers)\n",
    "train_df['Shops_2'] = train_df['Shops_2'].replace(binary_to_numbers)"
   ],
   "metadata": {
    "collapsed": false,
    "pycharm": {
     "name": "#%%\n"
    }
   }
  },
  {
   "cell_type": "markdown",
   "source": [
    "**DistrictSize, IsDistrictLarge**\n",
    "Переводим DistrictId в вещественный признак."
   ],
   "metadata": {
    "collapsed": false
   }
  },
  {
   "cell_type": "code",
   "execution_count": 780,
   "outputs": [],
   "source": [
    "district_size = train_df['DistrictId'].value_counts().reset_index()\\\n",
    "                    .rename(columns={'index':'DistrictId', 'DistrictId':'DistrictSize'})\n",
    "train_df = train_df.merge(district_size, on='DistrictId', how='left')\n",
    "train_df.drop(\"DistrictId\", axis=1, inplace=True)\n",
    "train_df['IsDistrictLarge'] = (train_df['DistrictSize'] > 100).astype(int)"
   ],
   "metadata": {
    "collapsed": false,
    "pycharm": {
     "name": "#%%\n"
    }
   }
  },
  {
   "cell_type": "markdown",
   "source": [
    "**Средняя стоимость в зависимости от района и комнат**\n",
    "\n",
    "Создаем новый признак, в зависимости от района и количества комнат в доме от цены.\n",
    "А так же делаем проверку на пустые значения и если они есть заполняем их медианной."
   ],
   "metadata": {
    "collapsed": false,
    "pycharm": {
     "name": "#%% md\n"
    }
   }
  },
  {
   "cell_type": "code",
   "execution_count": 781,
   "outputs": [
    {
     "data": {
      "text/plain": "      Id  Rooms      Square  LifeSquare  KitchenSquare  Floor  HouseFloor  \\\n0  11809    3.0  115.027313  102.027313           10.0    4.0        10.0   \n1   3013    1.0   39.832523   23.169222            8.0    7.0         8.0   \n2   8215    3.0   78.342216   47.671970           10.0    2.0        17.0   \n3   2352    1.0   40.409908   34.409908            3.0   10.0        22.0   \n4  13866    2.0   64.285065   38.562515            9.0   16.0        16.0   \n\n   HouseYear  Ecology_1  Ecology_2  ...  Helthcare_2  Shops_1  Shops_2  \\\n0     2014.0   0.075424          1  ...          0.0      0.0        1   \n1     1966.0   0.118537          1  ...          1.0      0.0        1   \n2     1988.0   0.025609          1  ...          3.0      1.0        1   \n3     1977.0   0.007122          1  ...          0.0      1.0        1   \n4     1972.0   0.282798          1  ...          0.0      6.0        1   \n\n           Price  Rooms_outlier  HouseFloor_outlier  LifeSquare_nan  \\\n0  305018.875000            0.0                 0.0               1   \n1  177734.546875            0.0                 0.0               0   \n2  282078.718750            0.0                 0.0               0   \n3  168106.000000            0.0                 0.0               1   \n4  343995.093750            0.0                 0.0               0   \n\n   DistrictSize  IsDistrictLarge  MedPriceByDistrict  \n0           851                1       213530.781250  \n1            78                0       165759.000000  \n2           652                1       244005.281250  \n3           652                1       146735.671875  \n4            89                0       192188.937500  \n\n[5 rows x 24 columns]",
      "text/html": "<div>\n<style scoped>\n    .dataframe tbody tr th:only-of-type {\n        vertical-align: middle;\n    }\n\n    .dataframe tbody tr th {\n        vertical-align: top;\n    }\n\n    .dataframe thead th {\n        text-align: right;\n    }\n</style>\n<table border=\"1\" class=\"dataframe\">\n  <thead>\n    <tr style=\"text-align: right;\">\n      <th></th>\n      <th>Id</th>\n      <th>Rooms</th>\n      <th>Square</th>\n      <th>LifeSquare</th>\n      <th>KitchenSquare</th>\n      <th>Floor</th>\n      <th>HouseFloor</th>\n      <th>HouseYear</th>\n      <th>Ecology_1</th>\n      <th>Ecology_2</th>\n      <th>...</th>\n      <th>Helthcare_2</th>\n      <th>Shops_1</th>\n      <th>Shops_2</th>\n      <th>Price</th>\n      <th>Rooms_outlier</th>\n      <th>HouseFloor_outlier</th>\n      <th>LifeSquare_nan</th>\n      <th>DistrictSize</th>\n      <th>IsDistrictLarge</th>\n      <th>MedPriceByDistrict</th>\n    </tr>\n  </thead>\n  <tbody>\n    <tr>\n      <th>0</th>\n      <td>11809</td>\n      <td>3.0</td>\n      <td>115.027313</td>\n      <td>102.027313</td>\n      <td>10.0</td>\n      <td>4.0</td>\n      <td>10.0</td>\n      <td>2014.0</td>\n      <td>0.075424</td>\n      <td>1</td>\n      <td>...</td>\n      <td>0.0</td>\n      <td>0.0</td>\n      <td>1</td>\n      <td>305018.875000</td>\n      <td>0.0</td>\n      <td>0.0</td>\n      <td>1</td>\n      <td>851</td>\n      <td>1</td>\n      <td>213530.781250</td>\n    </tr>\n    <tr>\n      <th>1</th>\n      <td>3013</td>\n      <td>1.0</td>\n      <td>39.832523</td>\n      <td>23.169222</td>\n      <td>8.0</td>\n      <td>7.0</td>\n      <td>8.0</td>\n      <td>1966.0</td>\n      <td>0.118537</td>\n      <td>1</td>\n      <td>...</td>\n      <td>1.0</td>\n      <td>0.0</td>\n      <td>1</td>\n      <td>177734.546875</td>\n      <td>0.0</td>\n      <td>0.0</td>\n      <td>0</td>\n      <td>78</td>\n      <td>0</td>\n      <td>165759.000000</td>\n    </tr>\n    <tr>\n      <th>2</th>\n      <td>8215</td>\n      <td>3.0</td>\n      <td>78.342216</td>\n      <td>47.671970</td>\n      <td>10.0</td>\n      <td>2.0</td>\n      <td>17.0</td>\n      <td>1988.0</td>\n      <td>0.025609</td>\n      <td>1</td>\n      <td>...</td>\n      <td>3.0</td>\n      <td>1.0</td>\n      <td>1</td>\n      <td>282078.718750</td>\n      <td>0.0</td>\n      <td>0.0</td>\n      <td>0</td>\n      <td>652</td>\n      <td>1</td>\n      <td>244005.281250</td>\n    </tr>\n    <tr>\n      <th>3</th>\n      <td>2352</td>\n      <td>1.0</td>\n      <td>40.409908</td>\n      <td>34.409908</td>\n      <td>3.0</td>\n      <td>10.0</td>\n      <td>22.0</td>\n      <td>1977.0</td>\n      <td>0.007122</td>\n      <td>1</td>\n      <td>...</td>\n      <td>0.0</td>\n      <td>1.0</td>\n      <td>1</td>\n      <td>168106.000000</td>\n      <td>0.0</td>\n      <td>0.0</td>\n      <td>1</td>\n      <td>652</td>\n      <td>1</td>\n      <td>146735.671875</td>\n    </tr>\n    <tr>\n      <th>4</th>\n      <td>13866</td>\n      <td>2.0</td>\n      <td>64.285065</td>\n      <td>38.562515</td>\n      <td>9.0</td>\n      <td>16.0</td>\n      <td>16.0</td>\n      <td>1972.0</td>\n      <td>0.282798</td>\n      <td>1</td>\n      <td>...</td>\n      <td>0.0</td>\n      <td>6.0</td>\n      <td>1</td>\n      <td>343995.093750</td>\n      <td>0.0</td>\n      <td>0.0</td>\n      <td>0</td>\n      <td>89</td>\n      <td>0</td>\n      <td>192188.937500</td>\n    </tr>\n  </tbody>\n</table>\n<p>5 rows × 24 columns</p>\n</div>"
     },
     "execution_count": 781,
     "metadata": {},
     "output_type": "execute_result"
    }
   ],
   "source": [
    "med_price_by_district = train_df.groupby(['DistrictSize', 'Rooms'], as_index=False)\\\n",
    "                                   .agg({'Price':'median'})\\\n",
    "                                   .rename(columns={'Price':'MedPriceByDistrict'})\n",
    "med_price_by_district_median = med_price_by_district['MedPriceByDistrict'].median()\n",
    "train_df = train_df.merge(med_price_by_district, on=['DistrictSize', 'Rooms'], how='left')\n",
    "train_df.fillna({'MedPriceByDistrict':med_price_by_district_median}, inplace=True)\n",
    "train_df.head()"
   ],
   "metadata": {
    "collapsed": false,
    "pycharm": {
     "name": "#%%\n"
    }
   }
  },
  {
   "cell_type": "markdown",
   "source": [
    "**Средняя стоимость в зависимости от этажности и возраста дома**"
   ],
   "metadata": {
    "collapsed": false,
    "pycharm": {
     "name": "#%% md\n"
    }
   }
  },
  {
   "cell_type": "code",
   "execution_count": 782,
   "outputs": [],
   "source": [
    "def floor_to_cat(x):\n",
    "    \"\"\"Добавляет категорию этажности с разбиением на 5 групп\"\"\"\n",
    "    bins = [0, 3, 5, 9, 15, x['Floor'].max()]\n",
    "    x['floor_cat'] = pd.cut(x['Floor'], bins=bins, labels=False)\n",
    "\n",
    "    x['floor_cat'].fillna(-1, inplace=True)\n",
    "    return x\n",
    "\n",
    "def year_to_cat(x):\n",
    "    \"\"\"Добавляет категорию возраста дома разбив на 5 групп\"\"\"\n",
    "    bins = [0, 1941, 1945, 1980, 2000, 2010, x['HouseYear'].max()]\n",
    "    x['year_cat'] = pd.cut(x['HouseYear'], bins=bins, labels=False)\n",
    "\n",
    "    x['year_cat'].fillna(-1, inplace=True)\n",
    "    return x"
   ],
   "metadata": {
    "collapsed": false,
    "pycharm": {
     "name": "#%%\n"
    }
   }
  },
  {
   "cell_type": "markdown",
   "source": [
    "Добавляем два столбца \"year_cat\" и \"floor_cat\", первый - разбиваем этажность дома на 5 категорий, а второй - разбивает\n",
    "год строительства дома на 5 групп."
   ],
   "metadata": {
    "collapsed": false
   }
  },
  {
   "cell_type": "code",
   "execution_count": 783,
   "outputs": [
    {
     "data": {
      "text/plain": "      Id  Rooms      Square  LifeSquare  KitchenSquare  Floor  HouseFloor  \\\n0  11809    3.0  115.027313  102.027313           10.0    4.0        10.0   \n1   3013    1.0   39.832523   23.169222            8.0    7.0         8.0   \n2   8215    3.0   78.342216   47.671970           10.0    2.0        17.0   \n3   2352    1.0   40.409908   34.409908            3.0   10.0        22.0   \n4  13866    2.0   64.285065   38.562515            9.0   16.0        16.0   \n\n   HouseYear  Ecology_1  Ecology_2  ...  Shops_2          Price  \\\n0     2014.0   0.075424          1  ...        1  305018.875000   \n1     1966.0   0.118537          1  ...        1  177734.546875   \n2     1988.0   0.025609          1  ...        1  282078.718750   \n3     1977.0   0.007122          1  ...        1  168106.000000   \n4     1972.0   0.282798          1  ...        1  343995.093750   \n\n   Rooms_outlier  HouseFloor_outlier  LifeSquare_nan  DistrictSize  \\\n0            0.0                 0.0               1           851   \n1            0.0                 0.0               0            78   \n2            0.0                 0.0               0           652   \n3            0.0                 0.0               1           652   \n4            0.0                 0.0               0            89   \n\n   IsDistrictLarge  MedPriceByDistrict  year_cat  floor_cat  \n0                1       213530.781250         5        1.0  \n1                0       165759.000000         2        2.0  \n2                1       244005.281250         3        0.0  \n3                1       146735.671875         2        3.0  \n4                0       192188.937500         2        4.0  \n\n[5 rows x 26 columns]",
      "text/html": "<div>\n<style scoped>\n    .dataframe tbody tr th:only-of-type {\n        vertical-align: middle;\n    }\n\n    .dataframe tbody tr th {\n        vertical-align: top;\n    }\n\n    .dataframe thead th {\n        text-align: right;\n    }\n</style>\n<table border=\"1\" class=\"dataframe\">\n  <thead>\n    <tr style=\"text-align: right;\">\n      <th></th>\n      <th>Id</th>\n      <th>Rooms</th>\n      <th>Square</th>\n      <th>LifeSquare</th>\n      <th>KitchenSquare</th>\n      <th>Floor</th>\n      <th>HouseFloor</th>\n      <th>HouseYear</th>\n      <th>Ecology_1</th>\n      <th>Ecology_2</th>\n      <th>...</th>\n      <th>Shops_2</th>\n      <th>Price</th>\n      <th>Rooms_outlier</th>\n      <th>HouseFloor_outlier</th>\n      <th>LifeSquare_nan</th>\n      <th>DistrictSize</th>\n      <th>IsDistrictLarge</th>\n      <th>MedPriceByDistrict</th>\n      <th>year_cat</th>\n      <th>floor_cat</th>\n    </tr>\n  </thead>\n  <tbody>\n    <tr>\n      <th>0</th>\n      <td>11809</td>\n      <td>3.0</td>\n      <td>115.027313</td>\n      <td>102.027313</td>\n      <td>10.0</td>\n      <td>4.0</td>\n      <td>10.0</td>\n      <td>2014.0</td>\n      <td>0.075424</td>\n      <td>1</td>\n      <td>...</td>\n      <td>1</td>\n      <td>305018.875000</td>\n      <td>0.0</td>\n      <td>0.0</td>\n      <td>1</td>\n      <td>851</td>\n      <td>1</td>\n      <td>213530.781250</td>\n      <td>5</td>\n      <td>1.0</td>\n    </tr>\n    <tr>\n      <th>1</th>\n      <td>3013</td>\n      <td>1.0</td>\n      <td>39.832523</td>\n      <td>23.169222</td>\n      <td>8.0</td>\n      <td>7.0</td>\n      <td>8.0</td>\n      <td>1966.0</td>\n      <td>0.118537</td>\n      <td>1</td>\n      <td>...</td>\n      <td>1</td>\n      <td>177734.546875</td>\n      <td>0.0</td>\n      <td>0.0</td>\n      <td>0</td>\n      <td>78</td>\n      <td>0</td>\n      <td>165759.000000</td>\n      <td>2</td>\n      <td>2.0</td>\n    </tr>\n    <tr>\n      <th>2</th>\n      <td>8215</td>\n      <td>3.0</td>\n      <td>78.342216</td>\n      <td>47.671970</td>\n      <td>10.0</td>\n      <td>2.0</td>\n      <td>17.0</td>\n      <td>1988.0</td>\n      <td>0.025609</td>\n      <td>1</td>\n      <td>...</td>\n      <td>1</td>\n      <td>282078.718750</td>\n      <td>0.0</td>\n      <td>0.0</td>\n      <td>0</td>\n      <td>652</td>\n      <td>1</td>\n      <td>244005.281250</td>\n      <td>3</td>\n      <td>0.0</td>\n    </tr>\n    <tr>\n      <th>3</th>\n      <td>2352</td>\n      <td>1.0</td>\n      <td>40.409908</td>\n      <td>34.409908</td>\n      <td>3.0</td>\n      <td>10.0</td>\n      <td>22.0</td>\n      <td>1977.0</td>\n      <td>0.007122</td>\n      <td>1</td>\n      <td>...</td>\n      <td>1</td>\n      <td>168106.000000</td>\n      <td>0.0</td>\n      <td>0.0</td>\n      <td>1</td>\n      <td>652</td>\n      <td>1</td>\n      <td>146735.671875</td>\n      <td>2</td>\n      <td>3.0</td>\n    </tr>\n    <tr>\n      <th>4</th>\n      <td>13866</td>\n      <td>2.0</td>\n      <td>64.285065</td>\n      <td>38.562515</td>\n      <td>9.0</td>\n      <td>16.0</td>\n      <td>16.0</td>\n      <td>1972.0</td>\n      <td>0.282798</td>\n      <td>1</td>\n      <td>...</td>\n      <td>1</td>\n      <td>343995.093750</td>\n      <td>0.0</td>\n      <td>0.0</td>\n      <td>0</td>\n      <td>89</td>\n      <td>0</td>\n      <td>192188.937500</td>\n      <td>2</td>\n      <td>4.0</td>\n    </tr>\n  </tbody>\n</table>\n<p>5 rows × 26 columns</p>\n</div>"
     },
     "execution_count": 783,
     "metadata": {},
     "output_type": "execute_result"
    }
   ],
   "source": [
    "train_df = year_to_cat(train_df)\n",
    "train_df = floor_to_cat(train_df)\n",
    "train_df.head()"
   ],
   "metadata": {
    "collapsed": false,
    "pycharm": {
     "name": "#%%\n"
    }
   }
  },
  {
   "cell_type": "markdown",
   "source": [
    "Добавляем столбец - MedPriceByFloorYear. Где указана средняя стоимость в зависимости от этажности и возраста дома."
   ],
   "metadata": {
    "collapsed": false
   }
  },
  {
   "cell_type": "code",
   "execution_count": 784,
   "outputs": [
    {
     "data": {
      "text/plain": "      Id  Rooms      Square  LifeSquare  KitchenSquare  Floor  HouseFloor  \\\n0  11809    3.0  115.027313  102.027313           10.0    4.0        10.0   \n1   3013    1.0   39.832523   23.169222            8.0    7.0         8.0   \n2   8215    3.0   78.342216   47.671970           10.0    2.0        17.0   \n3   2352    1.0   40.409908   34.409908            3.0   10.0        22.0   \n4  13866    2.0   64.285065   38.562515            9.0   16.0        16.0   \n\n   HouseYear  Ecology_1  Ecology_2  ...          Price  Rooms_outlier  \\\n0     2014.0   0.075424          1  ...  305018.875000            0.0   \n1     1966.0   0.118537          1  ...  177734.546875            0.0   \n2     1988.0   0.025609          1  ...  282078.718750            0.0   \n3     1977.0   0.007122          1  ...  168106.000000            0.0   \n4     1972.0   0.282798          1  ...  343995.093750            0.0   \n\n   HouseFloor_outlier  LifeSquare_nan  DistrictSize  IsDistrictLarge  \\\n0                 0.0               1           851                1   \n1                 0.0               0            78                0   \n2                 0.0               0           652                1   \n3                 0.0               1           652                1   \n4                 0.0               0            89                0   \n\n   MedPriceByDistrict  year_cat  floor_cat  MedPriceByFloorYear  \n0       213530.781250         5        1.0        161825.406250  \n1       165759.000000         2        2.0        193455.828125  \n2       244005.281250         3        0.0        205210.062500  \n3       146735.671875         2        3.0        184232.546875  \n4       192188.937500         2        4.0        175503.765625  \n\n[5 rows x 27 columns]",
      "text/html": "<div>\n<style scoped>\n    .dataframe tbody tr th:only-of-type {\n        vertical-align: middle;\n    }\n\n    .dataframe tbody tr th {\n        vertical-align: top;\n    }\n\n    .dataframe thead th {\n        text-align: right;\n    }\n</style>\n<table border=\"1\" class=\"dataframe\">\n  <thead>\n    <tr style=\"text-align: right;\">\n      <th></th>\n      <th>Id</th>\n      <th>Rooms</th>\n      <th>Square</th>\n      <th>LifeSquare</th>\n      <th>KitchenSquare</th>\n      <th>Floor</th>\n      <th>HouseFloor</th>\n      <th>HouseYear</th>\n      <th>Ecology_1</th>\n      <th>Ecology_2</th>\n      <th>...</th>\n      <th>Price</th>\n      <th>Rooms_outlier</th>\n      <th>HouseFloor_outlier</th>\n      <th>LifeSquare_nan</th>\n      <th>DistrictSize</th>\n      <th>IsDistrictLarge</th>\n      <th>MedPriceByDistrict</th>\n      <th>year_cat</th>\n      <th>floor_cat</th>\n      <th>MedPriceByFloorYear</th>\n    </tr>\n  </thead>\n  <tbody>\n    <tr>\n      <th>0</th>\n      <td>11809</td>\n      <td>3.0</td>\n      <td>115.027313</td>\n      <td>102.027313</td>\n      <td>10.0</td>\n      <td>4.0</td>\n      <td>10.0</td>\n      <td>2014.0</td>\n      <td>0.075424</td>\n      <td>1</td>\n      <td>...</td>\n      <td>305018.875000</td>\n      <td>0.0</td>\n      <td>0.0</td>\n      <td>1</td>\n      <td>851</td>\n      <td>1</td>\n      <td>213530.781250</td>\n      <td>5</td>\n      <td>1.0</td>\n      <td>161825.406250</td>\n    </tr>\n    <tr>\n      <th>1</th>\n      <td>3013</td>\n      <td>1.0</td>\n      <td>39.832523</td>\n      <td>23.169222</td>\n      <td>8.0</td>\n      <td>7.0</td>\n      <td>8.0</td>\n      <td>1966.0</td>\n      <td>0.118537</td>\n      <td>1</td>\n      <td>...</td>\n      <td>177734.546875</td>\n      <td>0.0</td>\n      <td>0.0</td>\n      <td>0</td>\n      <td>78</td>\n      <td>0</td>\n      <td>165759.000000</td>\n      <td>2</td>\n      <td>2.0</td>\n      <td>193455.828125</td>\n    </tr>\n    <tr>\n      <th>2</th>\n      <td>8215</td>\n      <td>3.0</td>\n      <td>78.342216</td>\n      <td>47.671970</td>\n      <td>10.0</td>\n      <td>2.0</td>\n      <td>17.0</td>\n      <td>1988.0</td>\n      <td>0.025609</td>\n      <td>1</td>\n      <td>...</td>\n      <td>282078.718750</td>\n      <td>0.0</td>\n      <td>0.0</td>\n      <td>0</td>\n      <td>652</td>\n      <td>1</td>\n      <td>244005.281250</td>\n      <td>3</td>\n      <td>0.0</td>\n      <td>205210.062500</td>\n    </tr>\n    <tr>\n      <th>3</th>\n      <td>2352</td>\n      <td>1.0</td>\n      <td>40.409908</td>\n      <td>34.409908</td>\n      <td>3.0</td>\n      <td>10.0</td>\n      <td>22.0</td>\n      <td>1977.0</td>\n      <td>0.007122</td>\n      <td>1</td>\n      <td>...</td>\n      <td>168106.000000</td>\n      <td>0.0</td>\n      <td>0.0</td>\n      <td>1</td>\n      <td>652</td>\n      <td>1</td>\n      <td>146735.671875</td>\n      <td>2</td>\n      <td>3.0</td>\n      <td>184232.546875</td>\n    </tr>\n    <tr>\n      <th>4</th>\n      <td>13866</td>\n      <td>2.0</td>\n      <td>64.285065</td>\n      <td>38.562515</td>\n      <td>9.0</td>\n      <td>16.0</td>\n      <td>16.0</td>\n      <td>1972.0</td>\n      <td>0.282798</td>\n      <td>1</td>\n      <td>...</td>\n      <td>343995.093750</td>\n      <td>0.0</td>\n      <td>0.0</td>\n      <td>0</td>\n      <td>89</td>\n      <td>0</td>\n      <td>192188.937500</td>\n      <td>2</td>\n      <td>4.0</td>\n      <td>175503.765625</td>\n    </tr>\n  </tbody>\n</table>\n<p>5 rows × 27 columns</p>\n</div>"
     },
     "execution_count": 784,
     "metadata": {},
     "output_type": "execute_result"
    }
   ],
   "source": [
    "med_price_by_floor_year = train_df.groupby(['year_cat', 'floor_cat'], as_index=False).agg({'Price':'median'}).\\\n",
    "                                            rename(columns={'Price':'MedPriceByFloorYear'})\n",
    "med_price_by_floor_year_median = med_price_by_floor_year['MedPriceByFloorYear'].median()\n",
    "train_df = train_df.merge(med_price_by_floor_year, on=['year_cat', 'floor_cat'], how='left')\n",
    "train_df.fillna({'MedPriceByFloorYear':med_price_by_floor_year_median}, inplace=True)\n",
    "train_df.head()"
   ],
   "metadata": {
    "collapsed": false,
    "pycharm": {
     "name": "#%%\n"
    }
   }
  },
  {
   "cell_type": "code",
   "execution_count": 785,
   "outputs": [],
   "source": [
    "\n",
    "class FeatureGenetator():\n",
    "    \"\"\"Генерация новых фич\"\"\"\n",
    "\n",
    "    def __init__(self):\n",
    "        self.DistrictId_counts = None\n",
    "        self.binary_to_numbers = None\n",
    "        self.med_price_by_district = None\n",
    "        self.med_price_by_floor_year = None\n",
    "        self.house_year_max = None\n",
    "        self.floor_max = None\n",
    "        self.district_size = None\n",
    "        self.med_price_by_district_median = None\n",
    "\n",
    "    def fit(self, X, y=None):\n",
    "\n",
    "        X = X.copy()\n",
    "\n",
    "        # Binary features\n",
    "        self.binary_to_numbers = {'A': 0, 'B': 1}\n",
    "\n",
    "        # DistrictID\n",
    "        self.district_size = X['DistrictId'].value_counts().reset_index() \\\n",
    "                               .rename(columns={'index':'DistrictId', 'DistrictId':'DistrictSize'})\n",
    "\n",
    "\n",
    "        # Target encoding\n",
    "        ## District, Rooms\n",
    "        df = X.copy()\n",
    "\n",
    "        if y is not None:\n",
    "            df['Price'] = y.values\n",
    "\n",
    "            self.med_price_by_district = df.groupby(['DistrictId', 'Rooms'], as_index=False).agg({'Price':'median'})\\\n",
    "                                            .rename(columns={'Price':'MedPriceByDistrict'})\n",
    "\n",
    "            self.med_price_by_district_median = self.med_price_by_district['MedPriceByDistrict'].median()\n",
    "\n",
    "        ## floor, year\n",
    "        if y is not None:\n",
    "            self.floor_max = df['Floor'].max()\n",
    "            self.house_year_max = df['HouseYear'].max()\n",
    "            df['Price'] = y.values\n",
    "            df = self.floor_to_cat(df)\n",
    "            df = self.year_to_cat(df)\n",
    "            self.med_price_by_floor_year = df.groupby(['year_cat', 'floor_cat'], as_index=False).agg({'Price':'median'}).\\\n",
    "                                            rename(columns={'Price':'MedPriceByFloorYear'})\n",
    "            self.med_price_by_floor_year_median = self.med_price_by_floor_year['MedPriceByFloorYear'].median()\n",
    "\n",
    "\n",
    "\n",
    "    def transform(self, X):\n",
    "\n",
    "        # Binary features\n",
    "        X['Ecology_2'] = X['Ecology_2'].map(self.binary_to_numbers)  # self.binary_to_numbers = {'A': 0, 'B': 1}\n",
    "        X['Ecology_3'] = X['Ecology_3'].map(self.binary_to_numbers)\n",
    "        X['Shops_2'] = X['Shops_2'].map(self.binary_to_numbers)\n",
    "\n",
    "        # DistrictId, IsDistrictLarge\n",
    "        X = X.merge(self.district_size, on='DistrictId', how='left')\n",
    "\n",
    "        X['new_district'] = 0\n",
    "        X.loc[X['DistrictSize'].isna(), 'new_district'] = 1\n",
    "\n",
    "        X['DistrictSize'].fillna(5, inplace=True)\n",
    "\n",
    "        X['IsDistrictLarge'] = (X['DistrictSize'] > 100).astype(int)\n",
    "\n",
    "        # More categorical features\n",
    "        X = self.floor_to_cat(X)  # + столбец floor_cat\n",
    "        X = self.year_to_cat(X)   # + столбец year_cat\n",
    "\n",
    "        # Target encoding\n",
    "        if self.med_price_by_district is not None:\n",
    "            X = X.merge(self.med_price_by_district, on=['DistrictId', 'Rooms'], how='left')\n",
    "            X['MedPriceByDistrict'].fillna(self.med_price_by_district_median, inplace=True)\n",
    "\n",
    "        if self.med_price_by_floor_year is not None:\n",
    "            X = X.merge(self.med_price_by_floor_year, on=['year_cat', 'floor_cat'], how='left')\n",
    "            X['MedPriceByFloorYear'].fillna(self.med_price_by_floor_year_median, inplace=True)\n",
    "\n",
    "        return X\n",
    "\n",
    "    def floor_to_cat(self, X):\n",
    "        bins = [0, 3, 5, 9, 15, self.floor_max]\n",
    "        X['floor_cat'] = pd.cut(X['Floor'], bins=bins, labels=False)\n",
    "\n",
    "        X['floor_cat'].fillna(-1, inplace=True)\n",
    "        return X\n",
    "\n",
    "    def year_to_cat(self, X):\n",
    "        bins = [0, 1941, 1945, 1980, 2000, 2010, self.house_year_max]\n",
    "        X['year_cat'] = pd.cut(X['HouseYear'], bins=bins, labels=False)\n",
    "\n",
    "        X['year_cat'].fillna(-1, inplace=True)\n",
    "        return X\n"
   ],
   "metadata": {
    "collapsed": false,
    "pycharm": {
     "name": "#%%\n"
    }
   }
  },
  {
   "cell_type": "markdown",
   "source": [
    "### 5. Отбор признаков\n",
    "\n",
    "Производим формирования переменных, снужными для нас признаками.\n",
    "Не включаем не нужные столбцы Id, DistrictId, year_cat, floor_cat.\n",
    "Разбиваем на признки, новые признаки и на главный объект."
   ],
   "metadata": {
    "collapsed": false,
    "pycharm": {
     "name": "#%% md\n"
    }
   }
  },
  {
   "cell_type": "code",
   "execution_count": 786,
   "outputs": [],
   "source": [
    "feature_names = ['Rooms', 'Square', 'LifeSquare', 'KitchenSquare', 'Floor', 'HouseFloor', 'HouseYear',\n",
    "                 'Ecology_1', 'Ecology_2', 'Ecology_3', 'Social_1', 'Social_2', 'Social_3',\n",
    "                 'Helthcare_2', 'Shops_1', 'Shops_2']\n",
    "\n",
    "new_feature_names = ['Rooms_outlier', 'HouseFloor_outlier', 'HouseYear_outlier', 'LifeSquare_nan', 'DistrictSize',\n",
    "                     'new_district', 'IsDistrictLarge',  'MedPriceByDistrict', 'MedPriceByFloorYear']\n",
    "\n",
    "target_name = 'Price'"
   ],
   "metadata": {
    "collapsed": false,
    "pycharm": {
     "name": "#%%\n"
    }
   }
  },
  {
   "cell_type": "markdown",
   "source": [
    "### 6. Разбиение на train и test\n",
    "\n",
    "Считываем по новой файлы и производим разбивка Датасета на тренировачный и тестовый Датасеты."
   ],
   "metadata": {
    "collapsed": false
   }
  },
  {
   "cell_type": "code",
   "execution_count": 787,
   "outputs": [],
   "source": [
    "train_df = pd.read_csv(TRAIN_DATASET_PATH)\n",
    "test_df = pd.read_csv(TEST_DATASET_PATH)\n",
    "\n",
    "X = train_df.drop(columns=target_name)\n",
    "y = train_df[target_name]"
   ],
   "metadata": {
    "collapsed": false,
    "pycharm": {
     "name": "#%%\n"
    }
   }
  },
  {
   "cell_type": "code",
   "execution_count": 788,
   "outputs": [],
   "source": [
    "X_train, X_valid, y_train, y_valid = train_test_split(X, y, test_size=0.33, shuffle=True, random_state=21)"
   ],
   "metadata": {
    "collapsed": false,
    "pycharm": {
     "name": "#%%\n"
    }
   }
  },
  {
   "cell_type": "markdown",
   "source": [
    "Проводим обучение на сформированых данных.\n",
    "\n",
    "Проверяем количество данных на выходе после обучения:"
   ],
   "metadata": {
    "collapsed": false
   }
  },
  {
   "cell_type": "code",
   "execution_count": 789,
   "outputs": [
    {
     "data": {
      "text/plain": "((6700, 22), (3300, 22), (5000, 22))"
     },
     "execution_count": 789,
     "metadata": {},
     "output_type": "execute_result"
    }
   ],
   "source": [
    "preprocessor = DataPreprocessing()\n",
    "preprocessor.fit(X_train)\n",
    "\n",
    "X_train = preprocessor.transform(X_train)\n",
    "X_valid = preprocessor.transform(X_valid)\n",
    "test_df = preprocessor.transform(test_df)\n",
    "\n",
    "X_train.shape, X_valid.shape, test_df.shape"
   ],
   "metadata": {
    "collapsed": false,
    "pycharm": {
     "name": "#%%\n"
    }
   }
  },
  {
   "cell_type": "markdown",
   "source": [
    "Проверяем количество данных на выходе после обучения и добавяления новых фич:"
   ],
   "metadata": {
    "collapsed": false
   }
  },
  {
   "cell_type": "code",
   "execution_count": 790,
   "outputs": [
    {
     "data": {
      "text/plain": "((6700, 29), (3300, 29), (5000, 29))"
     },
     "execution_count": 790,
     "metadata": {},
     "output_type": "execute_result"
    }
   ],
   "source": [
    "features_gen = FeatureGenetator()\n",
    "features_gen.fit(X_train, y_train)\n",
    "\n",
    "X_train = features_gen.transform(X_train)\n",
    "X_valid = features_gen.transform(X_valid)\n",
    "test_df = features_gen.transform(test_df)\n",
    "\n",
    "X_train.shape, X_valid.shape, test_df.shape"
   ],
   "metadata": {
    "collapsed": false,
    "pycharm": {
     "name": "#%%\n"
    }
   }
  },
  {
   "cell_type": "code",
   "execution_count": 791,
   "outputs": [],
   "source": [
    "X_train = X_train[feature_names + new_feature_names]\n",
    "X_valid = X_valid[feature_names + new_feature_names]\n",
    "test_df = test_df[feature_names + new_feature_names]"
   ],
   "metadata": {
    "collapsed": false,
    "pycharm": {
     "name": "#%%\n"
    }
   }
  },
  {
   "cell_type": "markdown",
   "source": [
    "Проверяем количество пропусков в Датасетах, после обучения:"
   ],
   "metadata": {
    "collapsed": false
   }
  },
  {
   "cell_type": "code",
   "execution_count": 792,
   "outputs": [
    {
     "data": {
      "text/plain": "(0, 0, 0)"
     },
     "execution_count": 792,
     "metadata": {},
     "output_type": "execute_result"
    }
   ],
   "source": [
    "X_train.head()\n",
    "X_valid.head()\n",
    "y_train.head()\n",
    "X_train.isna().sum().sum(), X_valid.isna().sum().sum(), test_df.isna().sum().sum()"
   ],
   "metadata": {
    "collapsed": false,
    "pycharm": {
     "name": "#%%\n"
    }
   }
  },
  {
   "cell_type": "markdown",
   "source": [
    "### 7. Построение модели\n",
    "\n",
    "**Обучение**"
   ],
   "metadata": {
    "collapsed": false
   }
  },
  {
   "cell_type": "code",
   "execution_count": 793,
   "outputs": [],
   "source": [
    "scaler = MinMaxScaler()\n",
    "X_train = pd.DataFrame(scaler.fit_transform(X_train))\n",
    "X_valid = pd.DataFrame(scaler.transform(X_valid))\n",
    "test_df = pd.DataFrame(scaler.transform(test_df))"
   ],
   "metadata": {
    "collapsed": false,
    "pycharm": {
     "name": "#%%\n"
    }
   }
  },
  {
   "cell_type": "code",
   "execution_count": 794,
   "outputs": [
    {
     "data": {
      "text/plain": "GradientBoostingRegressor(criterion='mse', learning_rate=0.025, loss='huber',\n                          max_depth=20, max_features='sqrt',\n                          min_samples_leaf=24, n_estimators=265,\n                          random_state=21)"
     },
     "execution_count": 794,
     "metadata": {},
     "output_type": "execute_result"
    }
   ],
   "source": [
    "model = GradientBoostingRegressor(criterion='mse',\n",
    "                                     max_depth=20,\n",
    "                                     min_samples_leaf=24,\n",
    "                                     random_state=21,\n",
    "                                     n_estimators=265,\n",
    "                                     max_features='sqrt',\n",
    "                                     loss='huber',\n",
    "                                     learning_rate=0.025)\n",
    "model.fit(X_train, y_train)"
   ],
   "metadata": {
    "collapsed": false,
    "pycharm": {
     "name": "#%%\n"
    }
   }
  },
  {
   "cell_type": "markdown",
   "source": [
    "**Оценка модели**"
   ],
   "metadata": {
    "collapsed": false
   }
  },
  {
   "cell_type": "code",
   "execution_count": 795,
   "outputs": [
    {
     "name": "stdout",
     "output_type": "stream",
     "text": [
      "Train R2:\t0.89\n",
      "Test R2:\t0.726\n"
     ]
    },
    {
     "data": {
      "text/plain": "<Figure size 1296x720 with 2 Axes>",
      "image/png": "[encoded data removed]"
     },
     "metadata": {
      "needs_background": "light"
     },
     "output_type": "display_data"
    }
   ],
   "source": [
    "y_train_preds = model.predict(X_train)\n",
    "y_test_preds = model.predict(X_valid)\n",
    "\n",
    "evaluate_preds(y_train, y_train_preds, y_valid, y_test_preds)"
   ],
   "metadata": {
    "collapsed": false,
    "pycharm": {
     "name": "#%%\n"
    }
   }
  },
  {
   "cell_type": "markdown",
   "source": [
    "**Кросс-валидация**"
   ],
   "metadata": {
    "collapsed": false
   }
  },
  {
   "cell_type": "code",
   "execution_count": 796,
   "outputs": [
    {
     "data": {
      "text/plain": "array([0.78970351, 0.74928909, 0.77437192])"
     },
     "execution_count": 796,
     "metadata": {},
     "output_type": "execute_result"
    }
   ],
   "source": [
    "cv_score = cross_val_score(model, X_train, y_train, scoring='r2', cv=KFold(n_splits=3, shuffle=True, random_state=21))\n",
    "cv_score"
   ],
   "metadata": {
    "collapsed": false,
    "pycharm": {
     "name": "#%%\n"
    }
   }
  },
  {
   "cell_type": "markdown",
   "source": [
    "**Среднее значение кросс-валидации:**"
   ],
   "metadata": {
    "collapsed": false
   }
  },
  {
   "cell_type": "code",
   "execution_count": 797,
   "outputs": [
    {
     "data": {
      "text/plain": "0.7711215061132052"
     },
     "execution_count": 797,
     "metadata": {},
     "output_type": "execute_result"
    }
   ],
   "source": [
    "cv_score.mean()"
   ],
   "metadata": {
    "collapsed": false,
    "pycharm": {
     "name": "#%%\n"
    }
   }
  },
  {
   "cell_type": "markdown",
   "source": [
    "### 8. Прогнозирование на тестовом датасете"
   ],
   "metadata": {
    "collapsed": false
   }
  },
  {
   "cell_type": "code",
   "execution_count": 798,
   "outputs": [
    {
     "data": {
      "text/plain": "     Id     Price\n0  4567  200000.0\n1  5925  200000.0\n2   960  200000.0\n3  3848  200000.0\n4   746  200000.0",
      "text/html": "<div>\n<style scoped>\n    .dataframe tbody tr th:only-of-type {\n        vertical-align: middle;\n    }\n\n    .dataframe tbody tr th {\n        vertical-align: top;\n    }\n\n    .dataframe thead th {\n        text-align: right;\n    }\n</style>\n<table border=\"1\" class=\"dataframe\">\n  <thead>\n    <tr style=\"text-align: right;\">\n      <th></th>\n      <th>Id</th>\n      <th>Price</th>\n    </tr>\n  </thead>\n  <tbody>\n    <tr>\n      <th>0</th>\n      <td>4567</td>\n      <td>200000.0</td>\n    </tr>\n    <tr>\n      <th>1</th>\n      <td>5925</td>\n      <td>200000.0</td>\n    </tr>\n    <tr>\n      <th>2</th>\n      <td>960</td>\n      <td>200000.0</td>\n    </tr>\n    <tr>\n      <th>3</th>\n      <td>3848</td>\n      <td>200000.0</td>\n    </tr>\n    <tr>\n      <th>4</th>\n      <td>746</td>\n      <td>200000.0</td>\n    </tr>\n  </tbody>\n</table>\n</div>"
     },
     "execution_count": 798,
     "metadata": {},
     "output_type": "execute_result"
    }
   ],
   "source": [
    "submit = pd.read_csv('../Course_project/sample_submission.csv')\n",
    "submit.head()"
   ],
   "metadata": {
    "collapsed": false,
    "pycharm": {
     "name": "#%%\n"
    }
   }
  },
  {
   "cell_type": "code",
   "execution_count": 799,
   "outputs": [
    {
     "data": {
      "text/plain": "array([166831.64795055, 121960.52234758, 140348.19420416, ...,\n       146455.66744563, 188143.22638876, 219780.80009923])"
     },
     "execution_count": 799,
     "metadata": {},
     "output_type": "execute_result"
    }
   ],
   "source": [
    "predictions = model.predict(test_df)\n",
    "predictions"
   ],
   "metadata": {
    "collapsed": false,
    "pycharm": {
     "name": "#%%\n"
    }
   }
  },
  {
   "cell_type": "code",
   "execution_count": 800,
   "outputs": [
    {
     "data": {
      "text/plain": "     Id          Price\n0  4567  166831.647951\n1  5925  121960.522348\n2   960  140348.194204\n3  3848  125919.314247\n4   746  192258.193371",
      "text/html": "<div>\n<style scoped>\n    .dataframe tbody tr th:only-of-type {\n        vertical-align: middle;\n    }\n\n    .dataframe tbody tr th {\n        vertical-align: top;\n    }\n\n    .dataframe thead th {\n        text-align: right;\n    }\n</style>\n<table border=\"1\" class=\"dataframe\">\n  <thead>\n    <tr style=\"text-align: right;\">\n      <th></th>\n      <th>Id</th>\n      <th>Price</th>\n    </tr>\n  </thead>\n  <tbody>\n    <tr>\n      <th>0</th>\n      <td>4567</td>\n      <td>166831.647951</td>\n    </tr>\n    <tr>\n      <th>1</th>\n      <td>5925</td>\n      <td>121960.522348</td>\n    </tr>\n    <tr>\n      <th>2</th>\n      <td>960</td>\n      <td>140348.194204</td>\n    </tr>\n    <tr>\n      <th>3</th>\n      <td>3848</td>\n      <td>125919.314247</td>\n    </tr>\n    <tr>\n      <th>4</th>\n      <td>746</td>\n      <td>192258.193371</td>\n    </tr>\n  </tbody>\n</table>\n</div>"
     },
     "execution_count": 800,
     "metadata": {},
     "output_type": "execute_result"
    }
   ],
   "source": [
    "submit['Price'] = predictions\n",
    "submit.head()"
   ],
   "metadata": {
    "collapsed": false,
    "pycharm": {
     "name": "#%%\n"
    }
   }
  },
  {
   "cell_type": "code",
   "execution_count": 801,
   "outputs": [
    {
     "data": {
      "text/plain": "(5000, 2)"
     },
     "execution_count": 801,
     "metadata": {},
     "output_type": "execute_result"
    }
   ],
   "source": [
    "submit.shape\n"
   ],
   "metadata": {
    "collapsed": false,
    "pycharm": {
     "name": "#%%\n"
    }
   }
  },
  {
   "cell_type": "code",
   "source": [
    "submit.to_csv('../Course_project/submit.csv', index=False)"
   ],
   "metadata": {
    "collapsed": false,
    "pycharm": {
     "name": "#%%\n"
    }
   },
   "execution_count": 802,
   "outputs": []
  }
 ],
 "metadata": {
  "kernelspec": {
   "display_name": "Python 3",
   "language": "python",
   "name": "python3"
  },
  "language_info": {
   "codemirror_mode": {
    "name": "ipython",
    "version": 2
   },
   "file_extension": ".py",
   "mimetype": "text/x-python",
   "name": "python",
   "nbconvert_exporter": "python",
   "pygments_lexer": "ipython2",
   "version": "2.7.6"
  }
 },
 "nbformat": 4,
 "nbformat_minor": 0
}